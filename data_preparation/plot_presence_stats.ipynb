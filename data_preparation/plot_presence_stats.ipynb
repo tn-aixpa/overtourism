{
 "cells": [
  {
   "cell_type": "code",
   "id": "initial_id",
   "metadata": {
    "collapsed": true
   },
   "source": [
    "import random\n",
    "\n",
    "import matplotlib.pyplot as plt\n",
    "import pandas as pd\n",
    "from matplotlib import patches\n",
    "from scipy import stats\n",
    "\n",
    "from utils import get_dataframe"
   ],
   "outputs": [],
   "execution_count": null
  },
  {
   "metadata": {},
   "cell_type": "code",
   "source": [
    "def _scatter(ax, sample, color, label):\n",
    "    sample_tourists = [ t for (t,e) in sample ]\n",
    "    sample_excursionists = [ e for (t,e) in sample ]\n",
    "    ax.scatter(sample_tourists, sample_excursionists, color=color, edgecolors='black', label=label)\n",
    "\n",
    "def show(sample, circles = None, label='presences'):\n",
    "    plt.figure()\n",
    "    ax = plt.gca()\n",
    "    _scatter(ax, sample, 'gainsboro', label)\n",
    "    if circles is not None:\n",
    "        for c in circles:\n",
    "            ax.add_patch(patches.Ellipse((c[0], c[2]), 2*c[1], 2*c[3], edgecolor='red', fill=False))\n",
    "    ax.set_xlim(left=0, right=10000)\n",
    "    ax.set_ylim(bottom=0, top=10000)\n",
    "    plt.xlabel(\"Tourists\")\n",
    "    plt.ylabel(\"Excursionist\")\n",
    "    plt.legend()\n",
    "    plt.show()\n",
    "\n",
    "def compare(sample1, sample2, labels=('first series','second series')):\n",
    "    plt.figure()\n",
    "    ax = plt.gca()\n",
    "    _scatter(ax, sample1, 'red', labels[0])\n",
    "    _scatter(ax, sample2, 'yellow', labels[1])\n",
    "    ax.set_xlim(left=0, right=10000)\n",
    "    ax.set_ylim(bottom=0, top=10000)\n",
    "    plt.xlabel(\"Tourists\")\n",
    "    plt.ylabel(\"Excursionist\")\n",
    "    plt.legend()\n",
    "    plt.show()"
   ],
   "id": "2419a014473c9fce",
   "outputs": [],
   "execution_count": null
  },
  {
   "metadata": {},
   "cell_type": "code",
   "source": [
    "season_stats = get_dataframe('season_stats_ot', local=True)\n",
    "print(season_stats)"
   ],
   "id": "e99fbaa0ab8910af",
   "outputs": [],
   "execution_count": null
  },
  {
   "metadata": {},
   "cell_type": "code",
   "source": [
    "def sample_presence(size=20):\n",
    "    seasons = random.choices(season_stats.index.to_list(), k=size,\n",
    "                             weights=[season_stats.loc[s,'freq_rel']\n",
    "                                      for s in season_stats.index.to_list()])\n",
    "    samples = []\n",
    "\n",
    "    for s in seasons:\n",
    "        t_distr = { \"mean\" : season_stats.loc[s,'mean_tourists'],\n",
    "                    \"std\" : season_stats.loc[s,'std_tourists']}\n",
    "        e_distr = { \"mean\" : season_stats.loc[s,'mean_excursionists'],\n",
    "                    \"std\" : season_stats.loc[s,'std_excursionists']}\n",
    "        t = stats.truncnorm.rvs(-t_distr[\"mean\"] / t_distr[\"std\"], 10,\n",
    "                                loc=t_distr[\"mean\"], scale=t_distr[\"std\"])\n",
    "        e = stats.truncnorm.rvs(-e_distr[\"mean\"] / e_distr[\"std\"], 10,\n",
    "                                loc=e_distr[\"mean\"], scale=e_distr[\"std\"])\n",
    "        samples += [(t,e)]\n",
    "\n",
    "    return samples\n",
    "\n",
    "show(sample_presence(100), [(s['mean_tourists'], s['std_tourists'],\n",
    "                             s['mean_excursionists'], s['std_excursionists'])\n",
    "                            for _,s in season_stats.iterrows()])"
   ],
   "id": "574bb63eeb3eac27",
   "outputs": [],
   "execution_count": null
  }
 ],
 "metadata": {
  "kernelspec": {
   "display_name": "Python 3",
   "language": "python",
   "name": "python3"
  },
  "language_info": {
   "codemirror_mode": {
    "name": "ipython",
    "version": 2
   },
   "file_extension": ".py",
   "mimetype": "text/x-python",
   "name": "python",
   "nbconvert_exporter": "python",
   "pygments_lexer": "ipython2",
   "version": "2.7.6"
  }
 },
 "nbformat": 4,
 "nbformat_minor": 5
}
