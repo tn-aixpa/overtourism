{
 "cells": [
  {
   "cell_type": "markdown",
   "id": "9c1e6659",
   "metadata": {},
   "source": [
    "# Vodafone Input Debug"
   ]
  },
  {
   "cell_type": "markdown",
   "id": "9e172612",
   "metadata": {},
   "source": [
    "## Global import"
   ]
  },
  {
   "cell_type": "code",
   "id": "d70eb80e",
   "metadata": {},
   "source": [
    "from global_import import *"
   ],
   "outputs": [],
   "execution_count": null
  },
  {
   "cell_type": "markdown",
   "id": "8722393f",
   "metadata": {},
   "source": [
    "## Platform initialization"
   ]
  },
  {
   "cell_type": "code",
   "id": "2e071d67",
   "metadata": {},
   "source": [
    "project_tourism = dh.get_or_create_project(\"overtourism1\")\n",
    "endpoint_url=\"http://minio:9000\"\n",
    "\n",
    "s3 = boto3.resource('s3',\n",
    "                    endpoint_url=endpoint_url)\n",
    "\n",
    "bucket = s3.Bucket('datalake')\n"
   ],
   "outputs": [],
   "execution_count": null
  },
  {
   "cell_type": "markdown",
   "id": "f1d4185f",
   "metadata": {},
   "source": [
    "## OD - parameters"
   ]
  },
  {
   "cell_type": "code",
   "id": "9c2a7db0",
   "metadata": {},
   "source": [
    "list_time_intervals = [[7,8],[8,9],[10,11],[16,17],[18,19],[25,26]]                                                                                                                                # NOTE: time intervals of interest in hours   \n",
    "DEBUG = False\n",
    "is_weekday = False\n",
    "str_t = 7.0\n",
    "str_t1 = 8.0\n",
    "int_time_hour_start_window_interest = 7\n",
    "user_profile = \"AGGREGATED\"\n",
    "str_day = \"2024-08-08\"\n",
    "col_str_day = col_str_day_od  \n",
    "str_col_n_trips = f\"n_trips_{user_profile}_t_{str_t}_{str_t1}\"           "
   ],
   "outputs": [],
   "execution_count": null
  },
  {
   "cell_type": "code",
   "id": "5bcbaa93",
   "metadata": {},
   "source": [
    "list_files_od, list_files_presenze, list_str_dates_yyyymm = extract_filenames_and_date_from_bucket(bucket)\n",
    "df_od_july = extract_od_vodafone_from_bucket(s3,list_files_od, 0)\n",
    "df_od_august = extract_od_vodafone_from_bucket(s3,list_files_od, 1)\n",
    "df_od_october = extract_od_vodafone_from_bucket(s3,list_files_od, 2)\n"
   ],
   "outputs": [],
   "execution_count": null
  },
  {
   "cell_type": "code",
   "id": "f6463192",
   "metadata": {},
   "source": [
    "print(\"periods in july dataset: \",df_od_july[\"PERIOD_ID\"].unique(),\"\\nperiods in august dataset: \",df_od_august[\"PERIOD_ID\"].unique(),\"\\nperiods in october dataset: \",df_od_october[\"PERIOD_ID\"].unique())\n",
    "list_str_dates_yyyymm"
   ],
   "outputs": [],
   "execution_count": null
  },
  {
   "cell_type": "code",
   "id": "8dbf4d8c",
   "metadata": {},
   "source": [
    "# Test the date extraction functions\n",
    "print(\"Testing date extraction functions...\")\n",
    "print(\"=\" * 50)\n",
    "\n",
    "# Test samples from your data\n",
    "test_samples = [\n",
    "    # July dataset samples  \n",
    "    \"202408 01-15 - Feriale\",\n",
    "    \"202407 16-31 - Festivo\", \n",
    "    \"202407 01-15 - Feriale\",\n",
    "    \"202407 01-15 - Festivo\",\n",
    "    \"202407 16-31 - Feriale\",\n",
    "    # August dataset samples\n",
    "    \"202408 01-15 - Festivo\",\n",
    "    \"202408 16-31 - Festivo\", \n",
    "    \"202408 01-15 - Prefestivo\",\n",
    "    # October dataset samples (null day format)\n",
    "    \"202410 - Prefestivo\",\n",
    "    \"202410 - Feriale\", \n",
    "    \"202410 - Festivo\"\n",
    "]\n",
    "\n",
    "print(\"Testing extract_date_info (for July/August):\")\n",
    "for sample in test_samples[:7]:\n",
    "    result = extract_date_info(sample)\n",
    "    if result is not None:\n",
    "        date_str, is_weekday = result\n",
    "        print(f\"  '{sample}' -> Date: {date_str}, Weekday: {is_weekday}\")\n",
    "    else:\n",
    "        print(f\"  '{sample}' -> None\")\n",
    "\n",
    "print(\"\\nTesting extract_date_and_weekday_case_null_day (for October):\")\n",
    "for sample in test_samples[7:]:\n",
    "    result = extract_date_and_weekday_case_null_day(sample)\n",
    "    if result is not None:\n",
    "        date_str, is_weekday = result  \n",
    "        print(f\"  '{sample}' -> Date: {date_str}, Weekday: {is_weekday}\")\n",
    "    else:\n",
    "        print(f\"  '{sample}' -> None\")"
   ],
   "outputs": [],
   "execution_count": null
  },
  {
   "cell_type": "markdown",
   "id": "b27a65dd",
   "metadata": {},
   "source": [
    "# Preparation OD"
   ]
  },
  {
   "cell_type": "code",
   "id": "cda6a0f3",
   "metadata": {},
   "source": [
    "for i,df_od in enumerate([df_od_july,df_od_august,df_od_october]):\n",
    "    print(\"################################################################################\")\n",
    "    print(\"OD: \", list_files_od[i])\n",
    "    if i == 2:\n",
    "        is_null_day = True\n",
    "    else:\n",
    "        is_null_day = False\n",
    "    print(\"Add columns for day and weekday/weekend\")\n",
    "    df_od = add_column_is_week_and_str_day(df_od = df_od,\n",
    "                                    str_period_id_presenze = str_period_id_presenze,\n",
    "                                    col_str_day_od = col_str_day_od,\n",
    "                                    col_str_is_week = col_str_is_week,\n",
    "                                    is_null_day = is_null_day)\n",
    "    Tij_dist = df_od.filter(pl.col(str_trip_type_od) != \"out-out\",\n",
    "                            pl.col(str_trip_type_od) != \"in-out\")\n",
    "                                                                        # filter the dataframe to remove the out-out and in-in trips\n",
    "    if col_str_day_od not in Tij_dist.columns or col_str_is_week not in Tij_dist.columns:\n",
    "        print(\"Add columns for day and weekday/weekend\")\n",
    "        Tij_dist = add_column_is_week_and_str_day(df_od = Tij_dist,\n",
    "                                                str_period_id_presenze = str_period_id_presenze,\n",
    "                                                col_str_day_od = col_str_day_od,\n",
    "                                                col_str_is_week = col_str_is_week,\n",
    "                                                is_null_day = is_null_day)                                                                                                               # NOTE: download the file from the bucket\n",
    "\n",
    "\n",
    "    for user_profile in UserProfiles:\n",
    "        list_unique_days_od = Tij_dist[col_str_day_od].unique().to_list()\n",
    "        for str_day in list_unique_days_od:\n",
    "            for str_t,str_t1 in list_time_intervals:\n",
    "                for is_weekday in [\"Feriale\",\"Prefestivo\",\"Festivo\"]:\n",
    "                    # NOTE: Si Rompe qui: Non Filtra sul weekday #\n",
    "                    print(f\"size of OD before weekday filtering: {Tij_dist.shape}\")\n",
    "                    # NOTE: Filter by day and weekday/weekend\n",
    "                    Tij_dist_week = Tij_dist.filter(pl.col(col_str_is_week) == is_weekday)  # filter the dataframe to keep only the rows with the correct weekday/weekend\n",
    "                    print(\"Resulting OD after filtering by weekday/weekend: \", Tij_dist.shape)                                                                                                   # print the shape of the resulting dataframe\n",
    "                    int_time_hour_start_window_interest = int(str_t)\n",
    "                    ################### convert_vodafone_format_OD_to_pipeline_format ##########################################################################\n",
    "                    print(f\"Analyzing OD for day {str_day}, time interval {str_t}-{str_t1}, user profile {user_profile}, is_weekday {is_weekday}\")\n",
    "                    Tij_dist_final = convert_vodafone_format_OD_to_pipeline_format(Tij_dist,\n",
    "                                                                        str_day=str_day,\n",
    "                                                                        col_str_day=col_str_day_od,\n",
    "                                                                        int_time_hour_start_window_interest=int_time_hour_start_window_interest,\n",
    "                                                                        str_t=str_t,\n",
    "                                                                        str_t1=str_t1,\n",
    "                                                                        IndexVodafone2UserProfile=UserProfile2IndexVodafone,\n",
    "                                                                        user_profile_col=str_destination_visitor_class_id_od,\n",
    "                                                                        user_profile=user_profile,\n",
    "                                                                        str_trips_od=str_trips_od,\n",
    "                                                                        str_col_O_vodafone=str_origin_od,\n",
    "                                                                        str_col_D_vodafone=str_destination_od,\n",
    "                                                                        str_col_n_trips=str_col_n_trips,\n",
    "                                                                        str_departure_hour_od = str_departure_hour_od,                                  # NOTE: column with the hour of departure in df_od\n",
    "                                                                        col_str_day_od = col_str_day_od,                                                # NOTE: column with the day of the trip in df_od\n",
    "                                                                        str_trip_type_od = str_trip_type_od,                                            # NOTE: column with the type of trip in df\n",
    "                                                                        col_str_is_week = col_str_is_week,                                              # NOTE: column with the information if the trip is in the weekend\n",
    "                                                                        str_origin_visitor_class_id_od = str_origin_visitor_class_id_od,                # NOTE: column with the origin class of visitor in df_od\n",
    "                                                                        str_destination_visitor_class_id_od = str_destination_visitor_class_id_od,      # NOTE: column with the destination class of visitor in df_od\n",
    "                                                                        str_nationality_class_id_od = str_nationality_class_id_od,                      # NOTE: column with the nationality class of visitor in df_od\n",
    "\n",
    "                                                                        )\n",
    "                    print(Tij_dist_final.head())\n",
    "                    print(Tij_dist_final[col_str_is_week].head())\n",
    "                    ################### convert_vodafone_format_OD_to_pipeline_format ##########################################################################\n"
   ],
   "outputs": [],
   "execution_count": null
  },
  {
   "cell_type": "code",
   "id": "d2a98d06",
   "metadata": {},
   "source": [
    "Tij_dist_week = Tij_dist.filter(pl.col(col_str_is_week) == is_weekday)  # filter the dataframe to keep only the rows with the correct weekday/weekend\n",
    "Tij_dist_week"
   ],
   "outputs": [],
   "execution_count": null
  },
  {
   "cell_type": "code",
   "id": "8e989dd5",
   "metadata": {},
   "source": [
    "Tij_dist_week[col_str_is_week].unique()"
   ],
   "outputs": [],
   "execution_count": null
  },
  {
   "cell_type": "code",
   "id": "f9e4a8e5",
   "metadata": {},
   "source": [],
   "outputs": [],
   "execution_count": null
  },
  {
   "cell_type": "code",
   "id": "292a94c3",
   "metadata": {},
   "source": [],
   "outputs": [],
   "execution_count": null
  }
 ],
 "metadata": {
  "kernelspec": {
   "display_name": "aixpa-overtourism-backend",
   "language": "python",
   "name": "python3"
  },
  "language_info": {
   "codemirror_mode": {
    "name": "ipython",
    "version": 3
   },
   "file_extension": ".py",
   "mimetype": "text/x-python",
   "name": "python",
   "nbconvert_exporter": "python",
   "pygments_lexer": "ipython3",
   "version": "3.11.6"
  }
 },
 "nbformat": 4,
 "nbformat_minor": 5
}
