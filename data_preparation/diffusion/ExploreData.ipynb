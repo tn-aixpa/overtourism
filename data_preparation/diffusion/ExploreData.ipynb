{
 "cells": [
  {
   "cell_type": "markdown",
   "metadata": {},
   "source": [
    "# Look at Data Available"
   ]
  },
  {
   "cell_type": "code",
   "metadata": {},
   "source": [
    "import polars as pl\n",
    "import os\n",
    "import sys\n",
    "sys.path.append(os.path.dirname(os.path.abspath(os.getcwd())))\n",
    "from DataHandler import *\n",
    "base_dir = os.path.dirname(os.path.abspath(os.getcwd()))\n",
    "data_dir = os.path.join(base_dir, 'Data')\n",
    "dtypes_locId = {\n",
    "    \"locId\": pl.Utf8  # Read the locId column as a string\n",
    "}\n",
    "infer_schema_length = 1000\n",
    "\n",
    "dh = DataHandler(pl.read_csv(os.path.join(data_dir,\"contamezzi_df.csv\")),\n",
    "            pl.read_csv(os.path.join(data_dir,\"manifestazioni_df.csv\")),\n",
    "            pl.read_csv(os.path.join(data_dir,\"meteotrentino_bollettino_df.csv\")),\n",
    "            pl.read_csv(os.path.join(data_dir,\"contamezzi_descrizione_sensore_df.csv\")),\n",
    "            pl.read_csv(os.path.join(data_dir,\"contapersone_passaggi_df.csv\")),\n",
    "            pl.read_csv(os.path.join(data_dir,\"contapersone_presenze_df.csv\")),\n",
    "            pl.read_csv(os.path.join(data_dir,\"statistiche_parcheggi_molveno_df.csv\")),\n",
    "            pl.read_csv(os.path.join(data_dir,\"movimento_turistico_df.csv\")),\n",
    "            pl.read_csv(os.path.join(data_dir,\"extra_strutture_df.csv\")),\n",
    "            pl.read_csv(os.path.join(data_dir,\"survey_df.csv\")),\n",
    "            pl.read_csv(os.path.join(data_dir,\"vodafone_aree_df.csv\"),dtypes=dtypes_locId,infer_schema_length=infer_schema_length),\n",
    "            pl.read_csv(os.path.join(data_dir,\"vodafone_attendences_df.csv\"),dtypes=dtypes_locId,infer_schema_length=infer_schema_length),\n",
    "            pl.read_csv(os.path.join(data_dir,\"vodafone_attendences_STR_df.csv\"),dtypes=dtypes_locId,infer_schema_length=infer_schema_length),\n",
    "            pl.read_csv(os.path.join(data_dir,\"movimento_turistico_molveno_df.csv\"))\n",
    "            ) \n",
    "dh.contamezzi_df = dh.contamezzi_df.join(dh.contamezzi_descrizione_sensore_df, on='sensore', how='left')\n",
    "dh.CastDataFramesDate()\n",
    "pandas_df = dh.contamezzi_df.to_pandas()\n",
    "\n",
    "# Then create the GeoDataFrame from the Pandas DataFrame\n",
    "gdf = gpd.GeoDataFrame(\n",
    "    pandas_df, \n",
    "    geometry=gpd.points_from_xy(pandas_df[\"longitudine\"], pandas_df[\"latitudine\"]),\n",
    "    crs=4326\n",
    ")\n",
    "gdf.drop(columns=[\"longitudine\", \"latitudine\",\"_right\"], inplace=True)\n",
    "gdf.rename(columns={\"direzione_right\":\"direzione\"}, inplace=True)\n",
    "gdf[\"aggregated_count\"] = gdf.apply(lambda x: x[\"cl1\"] + x[\"cl2\"] + x[\"cl3\"] + x[\"cl4\"] + x[\"cl5\"] + x[\"cl6\"] + x[\"cl7\"],axis=1)\n"
   ],
   "outputs": [],
   "execution_count": null
  },
  {
   "cell_type": "code",
   "metadata": {},
   "source": [
    "gdf"
   ],
   "outputs": [],
   "execution_count": null
  },
  {
   "cell_type": "code",
   "metadata": {},
   "source": [
    "import matplotlib.pyplot as plt\n",
    "plt.hist(gdf[\"nonrilevato\"])"
   ],
   "outputs": [],
   "execution_count": null
  },
  {
   "cell_type": "code",
   "metadata": {},
   "source": [
    "\n"
   ],
   "outputs": [],
   "execution_count": null
  },
  {
   "cell_type": "code",
   "metadata": {},
   "source": [
    "import contextily as ctx\n",
    "import matplotlib.pyplot as plt\n",
    "import geopandas as gpd\n",
    "import osmnx as ox\n",
    "from matplotlib_scalebar.scalebar import ScaleBar\n",
    "\n",
    "\n",
    "\n",
    "\n",
    "gdf_unified = pd.DataFrame()\n",
    "attendences_foreigners = dh.vodafone_attendences_df.join(dh.vodafone_aree_df, on='locId', how='left')\n",
    "names_zones_to_consider = attendences_foreigners.filter(pl.col(\"locName\").is_in([\"provincia\"])).unique(\"locDescr\")[\"locDescr\"].to_list()\n",
    "columns_to_retain = [\"geometry\",\"public_transport\",\"tourism\",\"amenity\"]\n",
    "\n",
    "for comune in names_zones_to_consider:\n",
    "    fig, ax = plt.subplots(figsize=(10, 10))\n",
    "    if \"+\" in comune:\n",
    "        pass\n",
    "    else:\n",
    "        try:\n",
    "            gdf = ox.geometries_from_place(comune,tags = {'building':True\n",
    "                                                        })\n",
    "            gdf_unified = pd.concat([gdf_unified,gdf],ignore_index=True)\n",
    "            gdf_unified = gpd.GeoDataFrame(gdf_unified , geometry='geometry') \n",
    "        except:\n",
    "            pass\n",
    "fig,ax = plt.subplots(figsize=(10, 10))\n",
    "gdf_unified.to_crs(crs_proj).plot(ax=ax, color='red')\n",
    "ctx.add_basemap(ax=ax,crs= crs_proj,source=ctx.providers.OpenStreetMap.Mapnik,attribution=\"© OpenStreetMap contributors\")\n",
    "scalebar = ScaleBar(1, location='lower right')\n",
    "ax.add_artist(scalebar)\n"
   ],
   "outputs": [],
   "execution_count": null
  },
  {
   "cell_type": "code",
   "metadata": {},
   "source": [
    "import networkx as nx\n",
    "import numpy as np\n",
    "import matplotlib.pyplot as plt\n",
    "from scipy.sparse import csr_matrix\n",
    "from scipy.sparse.linalg import inv\n",
    "\n",
    "np.random.seed(42)\n",
    "\n",
    "# Parameters\n",
    "N = 500                 # Number of nodes\n",
    "p = 0.01                # ER probability\n",
    "alpha = 0.02            # Attenuation parameter (should be < 1/lambda_max)\n",
    "\n",
    "# 1. Create sparse undirected graph\n",
    "G = nx.erdos_renyi_graph(N, p)\n",
    "A = nx.adjacency_matrix(G).astype(float).toarray()\n",
    "\n",
    "# 2. Compute Katz centrality via matrix inversion\n",
    "I = np.eye(N)\n",
    "try:\n",
    "    Katz_inv = np.linalg.solve(I - alpha * A, np.ones(N)) - 1\n",
    "except np.linalg.LinAlgError:\n",
    "    print(\"Matrix inversion failed; try a smaller alpha.\")\n",
    "\n",
    "# 3. Implement the cavity method\n",
    "def cavity_katz(A, alpha, max_iter=100, tol=1e-6):\n",
    "    N = A.shape[0]\n",
    "    neighbors = [np.where(A[i])[0] for i in range(N)]\n",
    "\n",
    "    # Initialize cavity messages: each (i->j) is (mu, V)\n",
    "    mu_cav = {}\n",
    "    V_cav = {}\n",
    "    for i in range(N):\n",
    "        for j in neighbors[i]:\n",
    "            mu_cav[(i, j)] = 0.0\n",
    "            V_cav[(i, j)] = 1.0\n",
    "\n",
    "    for _ in range(max_iter):\n",
    "        delta = 0.0\n",
    "        mu_cav_new = {}\n",
    "        V_cav_new = {}\n",
    "\n",
    "        for i in range(N):\n",
    "            for j in neighbors[i]:\n",
    "                neigh = [k for k in neighbors[i] if k != j]\n",
    "                V_new = 1.0 / (1 - alpha**2 * sum(V_cav.get((k, i), 0) for k in neigh))\n",
    "                mu_new = V_new * (1 + alpha * sum(mu_cav.get((k, i), 0) for k in neigh))\n",
    "\n",
    "                mu_cav_new[(i, j)] = mu_new\n",
    "                V_cav_new[(i, j)] = V_new\n",
    "\n",
    "                delta += abs(mu_cav[(i, j)] - mu_new)\n",
    "\n",
    "        mu_cav, V_cav = mu_cav_new, V_cav_new\n",
    "        if delta < tol:\n",
    "            break\n",
    "\n",
    "    # Compute marginal means µ_i\n",
    "    mu = np.zeros(N)\n",
    "    for i in range(N):\n",
    "        V_i = 1.0 / (1 - alpha**2 * sum(V_cav[(j, i)] for j in neighbors[i]))\n",
    "        mu[i] = V_i * (1 + alpha * sum(mu_cav[(j, i)] for j in neighbors[i]))\n",
    "\n",
    "    Katz_cavity = mu - 1\n",
    "    return Katz_cavity\n",
    "\n",
    "Katz_cav = cavity_katz(A, alpha)\n",
    "\n",
    "# 4. Plot comparison\n",
    "plt.figure(figsize=(10, 6))\n",
    "plt.scatter(Katz_inv, Katz_cav, s=10, alpha=0.6, label='Cavity vs Inversion')\n",
    "plt.plot([Katz_inv.min(), Katz_inv.max()], [Katz_inv.min(), Katz_inv.max()], 'r--', label='y = x')\n",
    "plt.xlabel(\"Katz Centrality (Matrix Inversion)\")\n",
    "plt.ylabel(\"Katz Centrality (Cavity Method)\")\n",
    "plt.title(\"Katz Centrality: Cavity Method vs Exact Solution\")\n",
    "plt.legend()\n",
    "plt.grid(True)\n",
    "plt.tight_layout()\n",
    "plt.show()\n"
   ],
   "outputs": [],
   "execution_count": null
  },
  {
   "cell_type": "code",
   "metadata": {},
   "source": [
    "dh.vodafone_attendences_df"
   ],
   "outputs": [],
   "execution_count": null
  },
  {
   "cell_type": "markdown",
   "metadata": {},
   "source": [
    "# Where do we measure fluxes? Three coils "
   ]
  },
  {
   "cell_type": "code",
   "metadata": {},
   "source": [
    "import geopandas as gpd\n",
    "import contextily as ctx\n",
    "import matplotlib.pyplot as plt\n",
    "import numpy as np\n",
    "gdf = gpd.GeoDataFrame(dh.contamezzi_df, geometry=gpd.points_from_xy(dh.contamezzi_df[\"longitudine\"],dh.contamezzi_df[\"latitudine\"]))\n",
    "crs = \"EPSG:4326\"\n",
    "gdf.set_crs(crs, inplace=True)\n",
    "crs_proj = \"EPSG:3857\"\n",
    "\n",
    "\n",
    "center_x, center_y = np.nanmean(gdf.geometry.x), np.nanmean(gdf.geometry.y)\n",
    " \n",
    "print(center_x, center_y)\n",
    "size = 10000  # Size of the bounding box in map units (meters for EPSG:3857)\n",
    "\n",
    "# Calculate the bounding box\n",
    "bbox = [center_x - size, center_y - size, center_x + size, center_y + size]\n",
    "\n",
    "\n",
    "fig, ax = plt.subplots(figsize=(10, 10))\n",
    "# Set the bounding box\n",
    "#ax.set_xlim(bbox[0], bbox[2])\n",
    "#ax.set_ylim(bbox[1], bbox[3])\n",
    "\n",
    "gdf.to_crs(crs_proj).plot(ax=ax)\n",
    "ctx.add_basemap(ax=ax,crs= crs_proj,source=ctx.providers.OpenStreetMap.Mapnik)"
   ],
   "outputs": [],
   "execution_count": null
  },
  {
   "cell_type": "code",
   "metadata": {},
   "source": [
    "import osmnx as ox\n",
    "import matplotlib.pyplot as plt\n",
    "import contextily as ctx\n",
    "import pandas as pd\n",
    "from matplotlib_scalebar.scalebar import ScaleBar\n",
    "#comuni = dh.vodafone_aree_df.filter(pl.col(\"locName\")==\"comune\")[\"locDescr\"].unique().to_list() \n",
    "comuni = [\"Molveno\",\"Fai della Paganella\"]\n",
    "columns_to_retain = [\"geometry\",\"public_transport\",\"tourism\",\"amenity\"]\n",
    "geometries = [\"\"]\n",
    "gdf_unified = gpd.GeoDataFrame()\n",
    "for comune in comuni:\n",
    "    fig, ax = plt.subplots(figsize=(10, 10))\n",
    "    gdf = ox.geometries_from_place(comune,tags = {'building':True\n",
    "                                                  })\n",
    "    \n",
    "    gdf_unified = pd.concat([gdf_unified,gdf],ignore_index=True)\n",
    "    gdf_unified = gpd.GeoDataFrame(gdf_unified , geometry='geometry') \n",
    "    gdf_unified = gdf_unified[columns_to_retain]\n",
    "    gdf.to_crs(crs_proj).plot(ax=ax, color='red')\n",
    "    ctx.add_basemap(ax=ax,crs= crs_proj,source=ctx.providers.OpenStreetMap.Mapnik)\n",
    "    plt.show()\n",
    "fig,ax = plt.subplots(figsize=(10, 10))\n",
    "gdf_unified.to_crs(crs_proj).plot(ax=ax, color='red')\n",
    "ctx.add_basemap(ax=ax,crs= crs_proj,source=ctx.providers.OpenStreetMap.Mapnik,attribution=\"© OpenStreetMap contributors\")\n",
    "scalebar = ScaleBar(1, location='lower right')\n",
    "ax.add_artist(scalebar)\n",
    "\n",
    "\n",
    "\n"
   ],
   "outputs": [],
   "execution_count": null
  },
  {
   "cell_type": "code",
   "metadata": {},
   "source": [
    "import matplotlib.pyplot as plt\n",
    "from collections import Counter\n",
    "fig,ax = plt.subplots(figsize=(10, 10))\n",
    "public_trans_count = Counter(gdf_unified[\"public_transport\"].dropna())\n",
    "tourism_count = Counter(gdf_unified[\"tourism\"].dropna())\n",
    "amenity_count = Counter(gdf_unified[\"amenity\"].dropna())\n",
    "ax.bar(public_trans_count.keys(), public_trans_count.values(), alpha=0.5, label='public_transport')\n",
    "ax.set_xlabel('publictransport')\n",
    "ax.set_xticklabels(public_trans_count.keys(), rotation=90)\n",
    "plt.show()\n",
    "fig,ax = plt.subplots(figsize=(10, 10))\n",
    "ax.bar(tourism_count.keys(), tourism_count.values(), alpha=0.5, label='tourism')\n",
    "ax.set_xlabel('tourism')\n",
    "ax.set_xticklabels(tourism_count.keys(), rotation=90)\n",
    "plt.show()\n",
    "fig,ax = plt.subplots(figsize=(10, 10))\n",
    "ax.bar(amenity_count.keys(), amenity_count.values(), alpha=0.5, label='amenity')\n",
    "ax.set_xlabel('amenity')\n",
    "ax.set_xticklabels(amenity_count.keys(), rotation=90)\n",
    "plt.show()\n",
    "\n",
    "\n"
   ],
   "outputs": [],
   "execution_count": null
  },
  {
   "cell_type": "markdown",
   "metadata": {},
   "source": [
    "# From Boundary to Road Graph"
   ]
  },
  {
   "cell_type": "code",
   "metadata": {},
   "source": [
    "boundary = gdf_unified.total_bounds\n",
    "bbox_polygon = bbox(*boundary) \n",
    "complete_graph = ox.graph_from_bbox(bbox_polygon,network_type='drive')\n",
    "complete_graph.plot(ax=ax, node_color='red', node_size=15, edge_color='black')\n"
   ],
   "outputs": [],
   "execution_count": null
  },
  {
   "cell_type": "code",
   "metadata": {},
   "source": [
    "from Geometry import *\n",
    "boundary = gdf_unified.total_bounds\n",
    " \n",
    "grid_area = GenerateGridFromBbox(boundary,crs,crs_proj,Lx = 2.5,Ly = 2)\n",
    "\n",
    "gdf.to_crs(crs_proj).plot(ax=ax, color='red')\n",
    "grid_area.to_crs(crs_proj).plot(ax=ax, color='blue',alpha=0.5)\n",
    "ctx.add_basemap(ax=ax,crs= crs_proj,source=ctx.providers.OpenStreetMap.Mapnik)\n",
    "plt.show()\n",
    "fig,ax = plt.subplots(figsize=(10, 10))\n",
    "gdf_unified.to_crs(crs_proj).plot(ax=ax, color='red')\n",
    "ctx.add_basemap(ax=ax,crs= crs_proj,source=ctx.providers.OpenStreetMap.Mapnik,attribution=\"© OpenStreetMap contributors\")\n",
    "scalebar = ScaleBar(1, location='lower right')\n",
    "ax.add_artist(scalebar)\n"
   ],
   "outputs": [],
   "execution_count": null
  },
  {
   "cell_type": "code",
   "metadata": {},
   "source": [
    "#fig,ax = plt.subplots(figsize=(10, 10))\n",
    "gdf_unified[\"amenity\"].unique()\n",
    "#ctx.add_basemap(ax=ax,crs= crs_proj,source=ctx.providers.OpenStreetMap.Mapnik,attribution=\"© OpenStreetMap contributors\")"
   ],
   "outputs": [],
   "execution_count": null
  },
  {
   "cell_type": "code",
   "metadata": {},
   "source": [
    "dh.movimento_turistico_molveno_df"
   ],
   "outputs": [],
   "execution_count": null
  },
  {
   "cell_type": "code",
   "metadata": {},
   "source": [
    "dh.movimento_turistico_df"
   ],
   "outputs": [],
   "execution_count": null
  },
  {
   "cell_type": "code",
   "metadata": {},
   "source": [
    "dh.statistiche_parcheggi_molveno_df.filter(pl.col(\"TOTALE\") == pl.col(\"TOTALE\").max())"
   ],
   "outputs": [],
   "execution_count": null
  },
  {
   "cell_type": "code",
   "metadata": {},
   "source": [
    "dh.movimento_turistico_df"
   ],
   "outputs": [],
   "execution_count": null
  },
  {
   "cell_type": "code",
   "metadata": {},
   "source": [
    "dh.contapersone_passaggi_df"
   ],
   "outputs": [],
   "execution_count": null
  },
  {
   "cell_type": "code",
   "metadata": {},
   "source": [],
   "outputs": [],
   "execution_count": null
  }
 ],
 "metadata": {
  "kernelspec": {
   "display_name": ".venv",
   "language": "python",
   "name": "python3"
  },
  "language_info": {
   "codemirror_mode": {
    "name": "ipython",
    "version": 3
   },
   "file_extension": ".py",
   "mimetype": "text/x-python",
   "name": "python",
   "nbconvert_exporter": "python",
   "pygments_lexer": "ipython3",
   "version": "3.11.6"
  }
 },
 "nbformat": 4,
 "nbformat_minor": 2
}
