{
 "cells": [
  {
   "cell_type": "code",
   "id": "c3e77bb4",
   "metadata": {},
   "source": [
    "import networkx as nx\n",
    "from graph_complex_functions import index_nodes, index_edges, index_triangles\n",
    "\n",
    "if __name__ == \"__main__\":\n",
    "    G = nx.Graph()\n",
    "    G.add_edges_from([(\"a\", \"b\"), (\"a\", \"c\"), (\"c\", \"b\"), (\"a\", \"c\")])\n",
    "\n",
    "    node2idx, idx2node = index_nodes(G)\n",
    "    edge2idx, idx2edge = index_edges(G, node2idx)\n",
    "    triangle2idx, idx2triangle = index_triangles(G, node2idx)\n",
    "\n",
    "    print(\"Nodes:\", node2idx)\n",
    "    print(\"Edges:\", edge2idx)\n",
    "    print(\"Triangles:\", triangle2idx)\n"
   ],
   "outputs": [],
   "execution_count": null
  },
  {
   "cell_type": "code",
   "id": "56dd9984",
   "metadata": {},
   "source": [],
   "outputs": [],
   "execution_count": null
  }
 ],
 "metadata": {
  "kernelspec": {
   "display_name": ".venv",
   "language": "python",
   "name": "python3"
  },
  "language_info": {
   "codemirror_mode": {
    "name": "ipython",
    "version": 3
   },
   "file_extension": ".py",
   "mimetype": "text/x-python",
   "name": "python",
   "nbconvert_exporter": "python",
   "pygments_lexer": "ipython3",
   "version": "3.11.6"
  }
 },
 "nbformat": 4,
 "nbformat_minor": 5
}
