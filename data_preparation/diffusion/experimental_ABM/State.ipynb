{
 "cells": [
  {
   "cell_type": "code",
   "id": "f9bf71b1",
   "metadata": {},
   "source": [
    "from State import *\n",
    "p_set = ParameterSet({\"alpha\": 0.5, \"beta\": 0.5, \"gamma\": 0.5, \"delta\": 0.5})\n",
    "p_set"
   ],
   "outputs": [],
   "execution_count": null
  },
  {
   "cell_type": "code",
   "id": "2fd9f12c",
   "metadata": {},
   "source": [],
   "outputs": [],
   "execution_count": null
  }
 ],
 "metadata": {
  "kernelspec": {
   "display_name": "python3.12",
   "language": "python",
   "name": "python3"
  },
  "language_info": {
   "codemirror_mode": {
    "name": "ipython",
    "version": 3
   },
   "file_extension": ".py",
   "mimetype": "text/x-python",
   "name": "python",
   "nbconvert_exporter": "python",
   "pygments_lexer": "ipython3",
   "version": "3.12.11"
  }
 },
 "nbformat": 4,
 "nbformat_minor": 5
}
