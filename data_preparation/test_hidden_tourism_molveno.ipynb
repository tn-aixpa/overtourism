{
 "cells": [
  {
   "metadata": {},
   "cell_type": "markdown",
   "source": "# Imports",
   "id": "e183b63b533f1189"
  },
  {
   "cell_type": "code",
   "id": "initial_id",
   "metadata": {
    "collapsed": true,
    "ExecuteTime": {
     "end_time": "2025-10-12T14:52:54.095199Z",
     "start_time": "2025-10-12T14:52:51.295162Z"
    }
   },
   "source": [
    "import pandas as pd\n",
    "import plotly.graph_objects as go\n",
    "from sklearn.linear_model import LinearRegression\n",
    "from sklearn.model_selection import cross_validate\n",
    "\n",
    "from utils import get_dataframe"
   ],
   "outputs": [],
   "execution_count": 1
  },
  {
   "metadata": {},
   "cell_type": "markdown",
   "source": "# Build dataframe",
   "id": "3a7a1bc062796fca"
  },
  {
   "metadata": {
    "ExecuteTime": {
     "end_time": "2025-10-12T14:52:54.324844Z",
     "start_time": "2025-10-12T14:52:54.321256Z"
    }
   },
   "cell_type": "code",
   "source": [
    "def get_presenze_visibili():\n",
    "    df = get_dataframe(\"movimento_turistico_molveno\")\n",
    "    df = df[[\"date\", \"presenze\"]].rename(columns={\"date\": \"data\"})\n",
    "    return df\n",
    "\n",
    "def get_presenze_vodafone():\n",
    "    locId_MOLVENO = \"27\"\n",
    "    userProfile_TOURISTS = \"TOURIST\"\n",
    "    df = get_dataframe(\"vodafone_attendences\")\n",
    "    df = df[(df[\"locId\"] == locId_MOLVENO) & (df[\"userProfile\"] == userProfile_TOURISTS)]\n",
    "    df = df[[\"date\", \"value\"]].rename(columns={\"date\": \"data\", \"value\": \"presenze\"}).groupby([\"data\"]).sum().reset_index()\n",
    "    df[\"data\"] = pd.to_datetime(df[\"data\"])\n",
    "    return df\n",
    "\n",
    "def prepare_dataframe():\n",
    "    df_presenze = get_presenze_visibili()\n",
    "    df_presenze_vodafone = get_presenze_vodafone()\n",
    "    df = df_presenze.merge(df_presenze_vodafone.rename(columns={\"presenze\":\"presenze_vodafone\"}), how=\"inner\", on=\"data\", )\n",
    "    df[\"mese\"] = df[\"data\"].dt.month\n",
    "    df[\"anno\"] = df[\"data\"].dt.year\n",
    "    df[\"giorno_settimana\"] = df[\"data\"].dt.weekday\n",
    "    return df"
   ],
   "id": "658e025de59f6c3c",
   "outputs": [],
   "execution_count": 2
  },
  {
   "metadata": {
    "ExecuteTime": {
     "end_time": "2025-10-12T14:53:25.270561Z",
     "start_time": "2025-10-12T14:53:17.064139Z"
    }
   },
   "cell_type": "code",
   "source": [
    "df_hidden_tourism = prepare_dataframe()\n",
    "df_hidden_tourism"
   ],
   "id": "602490e78789f51e",
   "outputs": [
    {
     "data": {
      "text/plain": [
       "          data  presenze  presenze_vodafone  mese  anno  giorno_settimana\n",
       "0   2022-01-01      2102               4550     1  2022                 5\n",
       "1   2022-01-02      1783               5110     1  2022                 6\n",
       "2   2022-01-03      1787               3643     1  2022                 0\n",
       "3   2022-01-04      1748               3337     1  2022                 1\n",
       "4   2022-01-05      1649               3255     1  2022                 2\n",
       "..         ...       ...                ...   ...   ...               ...\n",
       "725 2023-12-27      1494               2033    12  2023                 2\n",
       "726 2023-12-28      1802               2346    12  2023                 3\n",
       "727 2023-12-29      2138               2949    12  2023                 4\n",
       "728 2023-12-30      2371               3655    12  2023                 5\n",
       "729 2023-12-31      2507               3522    12  2023                 6\n",
       "\n",
       "[730 rows x 6 columns]"
      ],
      "text/html": [
       "<div>\n",
       "<style scoped>\n",
       "    .dataframe tbody tr th:only-of-type {\n",
       "        vertical-align: middle;\n",
       "    }\n",
       "\n",
       "    .dataframe tbody tr th {\n",
       "        vertical-align: top;\n",
       "    }\n",
       "\n",
       "    .dataframe thead th {\n",
       "        text-align: right;\n",
       "    }\n",
       "</style>\n",
       "<table border=\"1\" class=\"dataframe\">\n",
       "  <thead>\n",
       "    <tr style=\"text-align: right;\">\n",
       "      <th></th>\n",
       "      <th>data</th>\n",
       "      <th>presenze</th>\n",
       "      <th>presenze_vodafone</th>\n",
       "      <th>mese</th>\n",
       "      <th>anno</th>\n",
       "      <th>giorno_settimana</th>\n",
       "    </tr>\n",
       "  </thead>\n",
       "  <tbody>\n",
       "    <tr>\n",
       "      <th>0</th>\n",
       "      <td>2022-01-01</td>\n",
       "      <td>2102</td>\n",
       "      <td>4550</td>\n",
       "      <td>1</td>\n",
       "      <td>2022</td>\n",
       "      <td>5</td>\n",
       "    </tr>\n",
       "    <tr>\n",
       "      <th>1</th>\n",
       "      <td>2022-01-02</td>\n",
       "      <td>1783</td>\n",
       "      <td>5110</td>\n",
       "      <td>1</td>\n",
       "      <td>2022</td>\n",
       "      <td>6</td>\n",
       "    </tr>\n",
       "    <tr>\n",
       "      <th>2</th>\n",
       "      <td>2022-01-03</td>\n",
       "      <td>1787</td>\n",
       "      <td>3643</td>\n",
       "      <td>1</td>\n",
       "      <td>2022</td>\n",
       "      <td>0</td>\n",
       "    </tr>\n",
       "    <tr>\n",
       "      <th>3</th>\n",
       "      <td>2022-01-04</td>\n",
       "      <td>1748</td>\n",
       "      <td>3337</td>\n",
       "      <td>1</td>\n",
       "      <td>2022</td>\n",
       "      <td>1</td>\n",
       "    </tr>\n",
       "    <tr>\n",
       "      <th>4</th>\n",
       "      <td>2022-01-05</td>\n",
       "      <td>1649</td>\n",
       "      <td>3255</td>\n",
       "      <td>1</td>\n",
       "      <td>2022</td>\n",
       "      <td>2</td>\n",
       "    </tr>\n",
       "    <tr>\n",
       "      <th>...</th>\n",
       "      <td>...</td>\n",
       "      <td>...</td>\n",
       "      <td>...</td>\n",
       "      <td>...</td>\n",
       "      <td>...</td>\n",
       "      <td>...</td>\n",
       "    </tr>\n",
       "    <tr>\n",
       "      <th>725</th>\n",
       "      <td>2023-12-27</td>\n",
       "      <td>1494</td>\n",
       "      <td>2033</td>\n",
       "      <td>12</td>\n",
       "      <td>2023</td>\n",
       "      <td>2</td>\n",
       "    </tr>\n",
       "    <tr>\n",
       "      <th>726</th>\n",
       "      <td>2023-12-28</td>\n",
       "      <td>1802</td>\n",
       "      <td>2346</td>\n",
       "      <td>12</td>\n",
       "      <td>2023</td>\n",
       "      <td>3</td>\n",
       "    </tr>\n",
       "    <tr>\n",
       "      <th>727</th>\n",
       "      <td>2023-12-29</td>\n",
       "      <td>2138</td>\n",
       "      <td>2949</td>\n",
       "      <td>12</td>\n",
       "      <td>2023</td>\n",
       "      <td>4</td>\n",
       "    </tr>\n",
       "    <tr>\n",
       "      <th>728</th>\n",
       "      <td>2023-12-30</td>\n",
       "      <td>2371</td>\n",
       "      <td>3655</td>\n",
       "      <td>12</td>\n",
       "      <td>2023</td>\n",
       "      <td>5</td>\n",
       "    </tr>\n",
       "    <tr>\n",
       "      <th>729</th>\n",
       "      <td>2023-12-31</td>\n",
       "      <td>2507</td>\n",
       "      <td>3522</td>\n",
       "      <td>12</td>\n",
       "      <td>2023</td>\n",
       "      <td>6</td>\n",
       "    </tr>\n",
       "  </tbody>\n",
       "</table>\n",
       "<p>730 rows × 6 columns</p>\n",
       "</div>"
      ]
     },
     "execution_count": 4,
     "metadata": {},
     "output_type": "execute_result"
    }
   ],
   "execution_count": 4
  },
  {
   "metadata": {},
   "cell_type": "markdown",
   "source": "# Plots",
   "id": "9148f2f63338f901"
  },
  {
   "metadata": {
    "ExecuteTime": {
     "end_time": "2025-10-12T15:20:14.999217Z",
     "start_time": "2025-10-12T15:20:14.967097Z"
    }
   },
   "cell_type": "code",
   "source": [
    "day_colors = [\"violet\", \"purple\", \"red\", \"orange\", \"yellow\", \"green\", \"blue\"]\n",
    "\n",
    "def plot_weekday(df, days=range(7)):\n",
    "    fig = go.Figure()\n",
    "    for d in days:\n",
    "        df_day = df[df[\"giorno_settimana\"] == d]\n",
    "        fig.add_trace(go.Scatter(\n",
    "            x=df_day[\"presenze_vodafone\"],\n",
    "            y=df_day[\"presenze\"],\n",
    "            mode=\"markers\",\n",
    "            marker=dict(color=day_colors[d]),\n",
    "            name=f\"Day {d}\"\n",
    "        ))\n",
    "        X = df_day[\"presenze_vodafone\"].values.reshape(-1,1)\n",
    "        y = df_day[\"presenze\"].values.reshape(-1,1)\n",
    "        reg = LinearRegression().fit(X, y)\n",
    "        x0, x1 = 0, df[\"presenze_vodafone\"].max()\n",
    "        ys = reg.predict([[x0],[x1]])\n",
    "        y0, y1 = ys[0,0], ys[1,0]\n",
    "        fig.add_trace(go.Scatter(\n",
    "            x=[x0, x1],\n",
    "            y=[y0, y1],\n",
    "            mode=\"lines\",\n",
    "            marker=dict(color=day_colors[d]),\n",
    "            line=dict(color=day_colors[d], width=2),\n",
    "            showlegend=False,\n",
    "            name=f\"Day {d}\"\n",
    "        ))\n",
    "    fig.update_xaxes(\n",
    "        title=\"presenze_vodafone\",\n",
    "        range=[-800, df[\"presenze_vodafone\"].max()+800]\n",
    "    )\n",
    "    fig.update_yaxes(\n",
    "        title=\"presenze\",\n",
    "        range=[-800, df[\"presenze\"].max()+800]\n",
    "    )\n",
    "    fig.show()\n",
    "\n",
    "plot_weekday(df_hidden_tourism)"
   ],
   "id": "2d5379e499746538",
   "outputs": [
    {
     "data": {
      "application/vnd.plotly.v1+json": {
       "data": [
        {
         "marker": {
          "color": "violet"
         },
         "mode": "markers",
         "name": "Day 0",
         "x": {
          "dtype": "i2",
          "bdata": "Ow6YAdYBUQHOAbEC7gJwBCMG+gF3ApEAagBlAI4AdAf9ApwAOQEjAqYCzQOgB7wI8AlGCgQP5Q7EEbYRiRP5FgwachS3DiILPgh7B3oDIQYXAhQCOgG4B1kATwBDADEAwwBcAHAA+AbhD4gDTgIrAhgDLQQzBXYH/gM7A44BWAAwADMAKQTmALUE1gLUAEEBgwIeBT4ETAWkBZYF8AlNDL8O+g2ODJwQGBONEW4KUwoJB2EFTwR4BLwBugCCAJIAEAAAAAAAEwA1ADwAOgDiBA=="
         },
         "y": {
          "dtype": "i2",
          "bdata": "+wbjAMAA0gC1AK0BzAGkAsQD0QEqAScAJwBSAFgA1QGbAHAAswA0AZ0BMwKyBDkHKQcICAEKxwpoDA0M3wtcDesNvg3YCt4I0AZeBUADtwKrAT4BtQDjAysAGgAYADoANQAvADkApAPaByYCdgHTAWwCKgOyAyIF6AJAApEBOQAZADAASgGEACMDBwHnADQBXAK5AzoETwXbBqMH2QkwC10MDgyUChgNIw7/DXQJ5whSB+UEUQTCA/MBjwB7AFsADAASABwAHgBEAA4AEwB3Aw=="
         },
         "type": "scatter"
        },
        {
         "line": {
          "color": "violet",
          "width": 2
         },
         "marker": {
          "color": "violet"
         },
         "mode": "lines",
         "name": "Day 0",
         "showlegend": false,
         "x": [
          0,
          7241
         ],
         "y": [
          49.893105340336774,
          4983.109363584815
         ],
         "type": "scatter"
        },
        {
         "marker": {
          "color": "purple"
         },
         "mode": "markers",
         "name": "Day 1",
         "x": {
          "dtype": "i2",
          "bdata": "CQ16AZ8BggHjAKAC1AHdA8wEwwQOAkUAJQBOAIQAHgPnAG4ALgG4ARgCmwOaBWAIZAlMCdkNTQ9OD6YQdRMgF0IajhMqDuYKNwguCA8EeAMQAg4CvQBSBk8AIAAAAC8A8QBXADYADwpsDPsCJAL6AcUC+QNxBaQGfgOXAq0BGgARAA8A8AGxANsD8wDWACkBPwK9AzMETQWKBi0H8wnJC1AO4gy9DC8Q8BKdEPQJMAk7BisGnwQGBK8BqgBmAKsAAAAAAAAAAAA6ACsAFgAVBw=="
         },
         "y": {
          "dtype": "i2",
          "bdata": "1AbmAMcAzgC1ALIBdgF4ArYCtAEQAR4ALABHAFkA2ACcAHIAwABGAb4BMgKyBE4Hhwf8BycK5Qp5DPYLHQy6DQUOvg1yCskI2AZ6BcYDawKjAVIByQCOACEAHAAVABEAQAAIADMA5QRHCP0BdAHFATUCJwN/AycE2AIjAqIBOwAgADwAgACBAKAA4wAKAS0BZwLGA0UEbAXsBvUHJwphC1YMNAytCmgNIg7NDZ8JKwnlBmUFTwQqA+8BeAB2AE8AEAARABgAHgAfAA4AEACMBA=="
         },
         "type": "scatter"
        },
        {
         "line": {
          "color": "purple",
          "width": 2
         },
         "marker": {
          "color": "purple"
         },
         "mode": "lines",
         "name": "Day 1",
         "showlegend": false,
         "x": [
          0,
          7241
         ],
         "y": [
          56.350883400692624,
          5200.221499794364
         ],
         "type": "scatter"
        },
        {
         "marker": {
          "color": "red"
         },
         "mode": "markers",
         "name": "Day 2",
         "x": {
          "dtype": "i2",
          "bdata": "twynAbgBdwH4AKMCVAJPBNwD1gOgAS4AJQAxAOgAbgGTAMMAPgGMAeQDFgYeBVgJ+QnjCU0Oaw/7EMYQcxOiF8QYEBTuDXwKFggOCOIF9ALcAXUB8QBAAToANAAPACIA6wA7AG8AKQuwDKMCHgIaAtYC8QNtBeoFGQPPAtABDwAUAGUAtACYAN0A/wAAATQBdwKeA+QEVQVuB/oHygrHC94N2w2CDakQ0xOIEHAKQQlaBugGLgQiBEwBmgB7ANYAAAAAAAAAJAAAABMAMwDxBw=="
         },
         "y": {
          "dtype": "i2",
          "bdata": "cQblANMA2gDBAMMBoAGBApMCvAH3ACEAJgAgAHwAqAByAJsA7wBYAcMCuAPgBMMHzwfRB1sKKAulDOALawzRDf4Ntg2HCTwIJwb1BP0EgQJXASkBzgAyABoAGwASABMAjQAJADQAnwV/CPEBcAHqAUgCNAOKA/4D0QIkApgBQAAXAFwAYwB8AKkA4ABwAY0BOgLMA+YEtQULBy4IbAoKC1gMNwzzCr8N0w27DRgKRwlOBkMG9QM6A+QBYgBKAEgAEgASACAASABmABAAKQDWBQ=="
         },
         "type": "scatter"
        },
        {
         "line": {
          "color": "red",
          "width": 2
         },
         "marker": {
          "color": "red"
         },
         "mode": "lines",
         "name": "Day 2",
         "showlegend": false,
         "x": [
          0,
          7241
         ],
         "y": [
          75.27154435606485,
          5178.033393758581
         ],
         "type": "scatter"
        },
        {
         "marker": {
          "color": "orange"
         },
         "mode": "markers",
         "name": "Day 3",
         "x": {
          "dtype": "i2",
          "bdata": "Fw6IAcgBiAHMAawCFAMBBUsERQSDAWMAQwAnAKQBNgG9AMkAewFgApYGmAyyBXUKoQq8CSIPjBCTEQ8R5hSSGBoYjROWDVkKNwcvBz4HjQKjAbwB5ABdAEIATQAoADQA0wNIAM0AVgyxDWQBhwHSAlgDvAT2BYIGrwNqA8sBJgAWAFcBkgB9AKgA9wA5ASMCywJhBd0F5wXkBisIRAsTDCQOsw20DT0RIRPxEpMKgQl1BlEIOwQyBLIBjwBdALgAEwAAABMAJACZAB4AYgAqCQ=="
         },
         "y": {
          "dtype": "i2",
          "bdata": "4QbvAMsAMQEMAewBMQLzAjwDrQFNASoAJAAgAFUBowB+AMUACQHuAZgEtwhGBZMIXAgPCI4KHguJDA8MjAy1DckNRw26CXcIzQWdBMUFlgJNAUMB2QApAB4AFAAbAAcAdAELAGwATQaBCAoCrgE9Ar4C2QPuA4kEHgP5AZMBQAAbAMUAVwB4AL0A4QCaAVoCRQLZBfkFFwZCBygInwoiC1IMNAydCpANvg1VDc4JXgnuBboG+gMvAx8CZgBpAEsADAAUACMATgASARMAXQAKBw=="
         },
         "type": "scatter"
        },
        {
         "line": {
          "color": "orange",
          "width": 2
         },
         "marker": {
          "color": "orange"
         },
         "mode": "lines",
         "name": "Day 3",
         "showlegend": false,
         "x": [
          0,
          7241
         ],
         "y": [
          102.34843651586425,
          5032.644980111647
         ],
         "type": "scatter"
        },
        {
         "marker": {
          "color": "yellow"
         },
         "mode": "markers",
         "name": "Day 4",
         "x": {
          "dtype": "i2",
          "bdata": "JQ1RAkwC2AJWA7sDMAVNB0MGNwaIAv4AbACYAC4FwAFAAVcB2ALUAugHpw5gB+0MwwzlC9EQOxOSE2ETtxSRGRAXRhOHDv8LZwifBpYGkgOWAnQBYAK2AY4AnAB4APcAVQTjAMcBRRCZDo8DXwLABSoFrQZQB6EHOwUUBPABfQA7AFADpgCtAQsCXAH8AQYDGARSCBMH4gY9BvwIMA3TDdMOew5bDpkRQhP1EOELRAsjB/YJ9gXmBWwCuQDNAA0BMwAzAFsAiwBPBG8ARAGFCw=="
         },
         "y": {
          "dtype": "i2",
          "bdata": "owZ8AR0B+gFdAj0DpAPHBIwERQKuAXwANwA/AHgDDAGcABMB2QE/BDkF5QlRBm4JRgk4CRMLmAvCDB8McwygDZUN0ww1CvoJOQbRBP4GJwOxAWEBkgEqADEAIwBeADwAugFrADEBTQdpCOkCEgM8BBgECwUJBagF4APGA6YBWAAmAFACfQA8AdEBvgBxAo8C+gPfCJ4GcwdQCKcHjQuqC/4LZAy6CqoNfQ0ADU8K5ArJBl0H7wSqA5oCiQC2AFYAJwArAFkAUgBEAkkA1gBaCA=="
         },
         "type": "scatter"
        },
        {
         "line": {
          "color": "yellow",
          "width": 2
         },
         "marker": {
          "color": "yellow"
         },
         "mode": "lines",
         "name": "Day 4",
         "showlegend": false,
         "x": [
          0,
          7241
         ],
         "y": [
          117.60958199132392,
          4892.452357997296
         ],
         "type": "scatter"
        },
        {
         "marker": {
          "color": "green"
         },
         "mode": "markers",
         "name": "Day 5",
         "x": {
          "dtype": "i2",
          "bdata": "xhHYDCED1AKaBKcFnAVcCLwJEAj/BAwDuAG5APoADggYA7gBIALfBNUErQjDEMgKow3DD8QRnBF3FksWgBe3FEkcnBkFFNYQaQ+gCTUH5gy3BIoDCwJdBpYF6AADAcYAUQFfBIoBZAMdEJ0NhATtA3UHYgcfCPsJXAk/BtoEJwK5AHQAywTwABEEyQN6ASADFANdBvkItwcnCBEIbAvaEBsSNREdEQ0SOhUhFTwSFA2QDDUJWAl7B1UFzAKaAAABJQFyAGoAegCyAF4EdQBfA0cO"
         },
         "y": {
          "dtype": "i2",
          "bdata": "NggVBdQBwQHAAqoDmwRnBYgF0wTSAqgBsgByAGkAqgTiAc8AegHrAkEFMwXmCS0I0QmIClQLHQx0DLMMLQzoDAMOkg1XC2kK7QnyBoIEpAdKAz4CqwEUBDkANwBFAF8ARQB1AQsB9gEeCI8GtgIEBPAEFAWGBXcGsgVsBP0DqgGHAEQAMgO1ACoD7AItAbICzgJeBbkI1Aa/COAJdglVDGcMlgzlC5gLzw1ADewKbwqqCmgHfAdQBj0E3gLEAGIBRABdAE8AcAB8ADICUACKAkMJ"
         },
         "type": "scatter"
        },
        {
         "line": {
          "color": "green",
          "width": 2
         },
         "marker": {
          "color": "green"
         },
         "mode": "lines",
         "name": "Day 5",
         "showlegend": false,
         "x": [
          0,
          7241
         ],
         "y": [
          138.0671404368502,
          4384.914840627099
         ],
         "type": "scatter"
        },
        {
         "marker": {
          "color": "blue"
         },
         "mode": "markers",
         "name": "Day 6",
         "x": {
          "dtype": "i2",
          "bdata": "9hNzCAAD7wJ1BE0GvwXTCHoJiwbXBDgC1AHkAFkBigiTA7UBQAItBV0IqwhyD4ILbwtjDlASKRIQFgAVFxe3FDAc4hfUEY4PEg4SCuIGHAxZBFEEUwICCNEA3gDrAKEAUwEtA6cBEwSLDrkIvgO0AyUHIgfVBwcKZwd+BjcEfAGsAE8AOQUcAcEErQNMAccCeQM1B28IwwdqB1UHqwuFDwURuhBXD9MRsBMzE94NLwz0CvwHowZBB3AEhwLpACIB4QByAGQAggDqAIQDhgAjBMIN"
         },
         "y": {
          "dtype": "i2",
          "bdata": "9wYJAdMA7wAdAdMBOwIxA4oE7gFfAWUAPwBUAGAAgQQSAn0AmQBqAfsBLgJkBU4H+wbqB/4JiQrtC8cLLgvuDAIOdQ2SCncIlgYwBfgCRQR9ATQB6QB2BDYAHAATADwAMAAzADwAMgJlBzwCngElArICVQO6A30FOgN7ApwBOAAbADAAMQOUAIYDngLxAGgBVgLlBDQEKgV/BpUHAwn+CvcL1AtZCiMMBQ7rDEIJSAhtB74ElwQ2BEECfAB5AKgADgAVACIAHgBEAC8AGgBFA8sJ"
         },
         "type": "scatter"
        },
        {
         "line": {
          "color": "blue",
          "width": 2
         },
         "marker": {
          "color": "blue"
         },
         "mode": "lines",
         "name": "Day 6",
         "showlegend": false,
         "x": [
          0,
          7241
         ],
         "y": [
          -123.54138313076578,
          4168.009322713761
         ],
         "type": "scatter"
        }
       ],
       "layout": {
        "template": {
         "data": {
          "histogram2dcontour": [
           {
            "type": "histogram2dcontour",
            "colorbar": {
             "outlinewidth": 0,
             "ticks": ""
            },
            "colorscale": [
             [
              0.0,
              "#0d0887"
             ],
             [
              0.1111111111111111,
              "#46039f"
             ],
             [
              0.2222222222222222,
              "#7201a8"
             ],
             [
              0.3333333333333333,
              "#9c179e"
             ],
             [
              0.4444444444444444,
              "#bd3786"
             ],
             [
              0.5555555555555556,
              "#d8576b"
             ],
             [
              0.6666666666666666,
              "#ed7953"
             ],
             [
              0.7777777777777778,
              "#fb9f3a"
             ],
             [
              0.8888888888888888,
              "#fdca26"
             ],
             [
              1.0,
              "#f0f921"
             ]
            ]
           }
          ],
          "choropleth": [
           {
            "type": "choropleth",
            "colorbar": {
             "outlinewidth": 0,
             "ticks": ""
            }
           }
          ],
          "histogram2d": [
           {
            "type": "histogram2d",
            "colorbar": {
             "outlinewidth": 0,
             "ticks": ""
            },
            "colorscale": [
             [
              0.0,
              "#0d0887"
             ],
             [
              0.1111111111111111,
              "#46039f"
             ],
             [
              0.2222222222222222,
              "#7201a8"
             ],
             [
              0.3333333333333333,
              "#9c179e"
             ],
             [
              0.4444444444444444,
              "#bd3786"
             ],
             [
              0.5555555555555556,
              "#d8576b"
             ],
             [
              0.6666666666666666,
              "#ed7953"
             ],
             [
              0.7777777777777778,
              "#fb9f3a"
             ],
             [
              0.8888888888888888,
              "#fdca26"
             ],
             [
              1.0,
              "#f0f921"
             ]
            ]
           }
          ],
          "heatmap": [
           {
            "type": "heatmap",
            "colorbar": {
             "outlinewidth": 0,
             "ticks": ""
            },
            "colorscale": [
             [
              0.0,
              "#0d0887"
             ],
             [
              0.1111111111111111,
              "#46039f"
             ],
             [
              0.2222222222222222,
              "#7201a8"
             ],
             [
              0.3333333333333333,
              "#9c179e"
             ],
             [
              0.4444444444444444,
              "#bd3786"
             ],
             [
              0.5555555555555556,
              "#d8576b"
             ],
             [
              0.6666666666666666,
              "#ed7953"
             ],
             [
              0.7777777777777778,
              "#fb9f3a"
             ],
             [
              0.8888888888888888,
              "#fdca26"
             ],
             [
              1.0,
              "#f0f921"
             ]
            ]
           }
          ],
          "contourcarpet": [
           {
            "type": "contourcarpet",
            "colorbar": {
             "outlinewidth": 0,
             "ticks": ""
            }
           }
          ],
          "contour": [
           {
            "type": "contour",
            "colorbar": {
             "outlinewidth": 0,
             "ticks": ""
            },
            "colorscale": [
             [
              0.0,
              "#0d0887"
             ],
             [
              0.1111111111111111,
              "#46039f"
             ],
             [
              0.2222222222222222,
              "#7201a8"
             ],
             [
              0.3333333333333333,
              "#9c179e"
             ],
             [
              0.4444444444444444,
              "#bd3786"
             ],
             [
              0.5555555555555556,
              "#d8576b"
             ],
             [
              0.6666666666666666,
              "#ed7953"
             ],
             [
              0.7777777777777778,
              "#fb9f3a"
             ],
             [
              0.8888888888888888,
              "#fdca26"
             ],
             [
              1.0,
              "#f0f921"
             ]
            ]
           }
          ],
          "surface": [
           {
            "type": "surface",
            "colorbar": {
             "outlinewidth": 0,
             "ticks": ""
            },
            "colorscale": [
             [
              0.0,
              "#0d0887"
             ],
             [
              0.1111111111111111,
              "#46039f"
             ],
             [
              0.2222222222222222,
              "#7201a8"
             ],
             [
              0.3333333333333333,
              "#9c179e"
             ],
             [
              0.4444444444444444,
              "#bd3786"
             ],
             [
              0.5555555555555556,
              "#d8576b"
             ],
             [
              0.6666666666666666,
              "#ed7953"
             ],
             [
              0.7777777777777778,
              "#fb9f3a"
             ],
             [
              0.8888888888888888,
              "#fdca26"
             ],
             [
              1.0,
              "#f0f921"
             ]
            ]
           }
          ],
          "mesh3d": [
           {
            "type": "mesh3d",
            "colorbar": {
             "outlinewidth": 0,
             "ticks": ""
            }
           }
          ],
          "scatter": [
           {
            "fillpattern": {
             "fillmode": "overlay",
             "size": 10,
             "solidity": 0.2
            },
            "type": "scatter"
           }
          ],
          "parcoords": [
           {
            "type": "parcoords",
            "line": {
             "colorbar": {
              "outlinewidth": 0,
              "ticks": ""
             }
            }
           }
          ],
          "scatterpolargl": [
           {
            "type": "scatterpolargl",
            "marker": {
             "colorbar": {
              "outlinewidth": 0,
              "ticks": ""
             }
            }
           }
          ],
          "bar": [
           {
            "error_x": {
             "color": "#2a3f5f"
            },
            "error_y": {
             "color": "#2a3f5f"
            },
            "marker": {
             "line": {
              "color": "#E5ECF6",
              "width": 0.5
             },
             "pattern": {
              "fillmode": "overlay",
              "size": 10,
              "solidity": 0.2
             }
            },
            "type": "bar"
           }
          ],
          "scattergeo": [
           {
            "type": "scattergeo",
            "marker": {
             "colorbar": {
              "outlinewidth": 0,
              "ticks": ""
             }
            }
           }
          ],
          "scatterpolar": [
           {
            "type": "scatterpolar",
            "marker": {
             "colorbar": {
              "outlinewidth": 0,
              "ticks": ""
             }
            }
           }
          ],
          "histogram": [
           {
            "marker": {
             "pattern": {
              "fillmode": "overlay",
              "size": 10,
              "solidity": 0.2
             }
            },
            "type": "histogram"
           }
          ],
          "scattergl": [
           {
            "type": "scattergl",
            "marker": {
             "colorbar": {
              "outlinewidth": 0,
              "ticks": ""
             }
            }
           }
          ],
          "scatter3d": [
           {
            "type": "scatter3d",
            "line": {
             "colorbar": {
              "outlinewidth": 0,
              "ticks": ""
             }
            },
            "marker": {
             "colorbar": {
              "outlinewidth": 0,
              "ticks": ""
             }
            }
           }
          ],
          "scattermap": [
           {
            "type": "scattermap",
            "marker": {
             "colorbar": {
              "outlinewidth": 0,
              "ticks": ""
             }
            }
           }
          ],
          "scattermapbox": [
           {
            "type": "scattermapbox",
            "marker": {
             "colorbar": {
              "outlinewidth": 0,
              "ticks": ""
             }
            }
           }
          ],
          "scatterternary": [
           {
            "type": "scatterternary",
            "marker": {
             "colorbar": {
              "outlinewidth": 0,
              "ticks": ""
             }
            }
           }
          ],
          "scattercarpet": [
           {
            "type": "scattercarpet",
            "marker": {
             "colorbar": {
              "outlinewidth": 0,
              "ticks": ""
             }
            }
           }
          ],
          "carpet": [
           {
            "aaxis": {
             "endlinecolor": "#2a3f5f",
             "gridcolor": "white",
             "linecolor": "white",
             "minorgridcolor": "white",
             "startlinecolor": "#2a3f5f"
            },
            "baxis": {
             "endlinecolor": "#2a3f5f",
             "gridcolor": "white",
             "linecolor": "white",
             "minorgridcolor": "white",
             "startlinecolor": "#2a3f5f"
            },
            "type": "carpet"
           }
          ],
          "table": [
           {
            "cells": {
             "fill": {
              "color": "#EBF0F8"
             },
             "line": {
              "color": "white"
             }
            },
            "header": {
             "fill": {
              "color": "#C8D4E3"
             },
             "line": {
              "color": "white"
             }
            },
            "type": "table"
           }
          ],
          "barpolar": [
           {
            "marker": {
             "line": {
              "color": "#E5ECF6",
              "width": 0.5
             },
             "pattern": {
              "fillmode": "overlay",
              "size": 10,
              "solidity": 0.2
             }
            },
            "type": "barpolar"
           }
          ],
          "pie": [
           {
            "automargin": true,
            "type": "pie"
           }
          ]
         },
         "layout": {
          "autotypenumbers": "strict",
          "colorway": [
           "#636efa",
           "#EF553B",
           "#00cc96",
           "#ab63fa",
           "#FFA15A",
           "#19d3f3",
           "#FF6692",
           "#B6E880",
           "#FF97FF",
           "#FECB52"
          ],
          "font": {
           "color": "#2a3f5f"
          },
          "hovermode": "closest",
          "hoverlabel": {
           "align": "left"
          },
          "paper_bgcolor": "white",
          "plot_bgcolor": "#E5ECF6",
          "polar": {
           "bgcolor": "#E5ECF6",
           "angularaxis": {
            "gridcolor": "white",
            "linecolor": "white",
            "ticks": ""
           },
           "radialaxis": {
            "gridcolor": "white",
            "linecolor": "white",
            "ticks": ""
           }
          },
          "ternary": {
           "bgcolor": "#E5ECF6",
           "aaxis": {
            "gridcolor": "white",
            "linecolor": "white",
            "ticks": ""
           },
           "baxis": {
            "gridcolor": "white",
            "linecolor": "white",
            "ticks": ""
           },
           "caxis": {
            "gridcolor": "white",
            "linecolor": "white",
            "ticks": ""
           }
          },
          "coloraxis": {
           "colorbar": {
            "outlinewidth": 0,
            "ticks": ""
           }
          },
          "colorscale": {
           "sequential": [
            [
             0.0,
             "#0d0887"
            ],
            [
             0.1111111111111111,
             "#46039f"
            ],
            [
             0.2222222222222222,
             "#7201a8"
            ],
            [
             0.3333333333333333,
             "#9c179e"
            ],
            [
             0.4444444444444444,
             "#bd3786"
            ],
            [
             0.5555555555555556,
             "#d8576b"
            ],
            [
             0.6666666666666666,
             "#ed7953"
            ],
            [
             0.7777777777777778,
             "#fb9f3a"
            ],
            [
             0.8888888888888888,
             "#fdca26"
            ],
            [
             1.0,
             "#f0f921"
            ]
           ],
           "sequentialminus": [
            [
             0.0,
             "#0d0887"
            ],
            [
             0.1111111111111111,
             "#46039f"
            ],
            [
             0.2222222222222222,
             "#7201a8"
            ],
            [
             0.3333333333333333,
             "#9c179e"
            ],
            [
             0.4444444444444444,
             "#bd3786"
            ],
            [
             0.5555555555555556,
             "#d8576b"
            ],
            [
             0.6666666666666666,
             "#ed7953"
            ],
            [
             0.7777777777777778,
             "#fb9f3a"
            ],
            [
             0.8888888888888888,
             "#fdca26"
            ],
            [
             1.0,
             "#f0f921"
            ]
           ],
           "diverging": [
            [
             0,
             "#8e0152"
            ],
            [
             0.1,
             "#c51b7d"
            ],
            [
             0.2,
             "#de77ae"
            ],
            [
             0.3,
             "#f1b6da"
            ],
            [
             0.4,
             "#fde0ef"
            ],
            [
             0.5,
             "#f7f7f7"
            ],
            [
             0.6,
             "#e6f5d0"
            ],
            [
             0.7,
             "#b8e186"
            ],
            [
             0.8,
             "#7fbc41"
            ],
            [
             0.9,
             "#4d9221"
            ],
            [
             1,
             "#276419"
            ]
           ]
          },
          "xaxis": {
           "gridcolor": "white",
           "linecolor": "white",
           "ticks": "",
           "title": {
            "standoff": 15
           },
           "zerolinecolor": "white",
           "automargin": true,
           "zerolinewidth": 2
          },
          "yaxis": {
           "gridcolor": "white",
           "linecolor": "white",
           "ticks": "",
           "title": {
            "standoff": 15
           },
           "zerolinecolor": "white",
           "automargin": true,
           "zerolinewidth": 2
          },
          "scene": {
           "xaxis": {
            "backgroundcolor": "#E5ECF6",
            "gridcolor": "white",
            "linecolor": "white",
            "showbackground": true,
            "ticks": "",
            "zerolinecolor": "white",
            "gridwidth": 2
           },
           "yaxis": {
            "backgroundcolor": "#E5ECF6",
            "gridcolor": "white",
            "linecolor": "white",
            "showbackground": true,
            "ticks": "",
            "zerolinecolor": "white",
            "gridwidth": 2
           },
           "zaxis": {
            "backgroundcolor": "#E5ECF6",
            "gridcolor": "white",
            "linecolor": "white",
            "showbackground": true,
            "ticks": "",
            "zerolinecolor": "white",
            "gridwidth": 2
           }
          },
          "shapedefaults": {
           "line": {
            "color": "#2a3f5f"
           }
          },
          "annotationdefaults": {
           "arrowcolor": "#2a3f5f",
           "arrowhead": 0,
           "arrowwidth": 1
          },
          "geo": {
           "bgcolor": "white",
           "landcolor": "#E5ECF6",
           "subunitcolor": "white",
           "showland": true,
           "showlakes": true,
           "lakecolor": "white"
          },
          "title": {
           "x": 0.05
          },
          "mapbox": {
           "style": "light"
          }
         }
        },
        "xaxis": {
         "title": {
          "text": "presenze_vodafone"
         },
         "range": [
          -800,
          8041
         ]
        },
        "yaxis": {
         "title": {
          "text": "presenze"
         },
         "range": [
          -800,
          4419
         ]
        }
       },
       "config": {
        "plotlyServerURL": "https://plot.ly"
       }
      }
     },
     "metadata": {},
     "output_type": "display_data"
    }
   ],
   "execution_count": 21
  },
  {
   "metadata": {
    "ExecuteTime": {
     "end_time": "2025-10-12T15:20:35.493955Z",
     "start_time": "2025-10-12T15:20:35.452926Z"
    }
   },
   "cell_type": "code",
   "source": [
    "month_colors = [ \"black\",\n",
    "    \"#1f77b4\", \"#4e88bf\", \"#2ca02c\", \"#98df8a\",\n",
    "    \"#d6e685\", \"#ffbb78\", \"#bcbd22\", \"#db9334\",\n",
    "    \"#ff7f0e\", \"#d62728\", \"#8c564b\", \"#1f4b99\"\n",
    "]\n",
    "\n",
    "def plot_month(df, months=range(1,13)):\n",
    "    fig = go.Figure()\n",
    "    for m in months:\n",
    "        df_month = df[df[\"mese\"] == m]\n",
    "        fig.add_trace(go.Scatter(\n",
    "            x=df_month[\"presenze_vodafone\"],\n",
    "            y=df_month[\"presenze\"],\n",
    "            mode=\"markers\",\n",
    "            marker=dict(color=month_colors[m]),\n",
    "            name=f\"Month {m}\"\n",
    "        ))\n",
    "        X = df_month[\"presenze_vodafone\"].values.reshape(-1,1)\n",
    "        y = df_month[\"presenze\"].values.reshape(-1,1)\n",
    "        reg = LinearRegression().fit(X, y)\n",
    "        x0, x1 = 0, df[\"presenze_vodafone\"].max()\n",
    "        ys = reg.predict([[x0],[x1]])\n",
    "        y0, y1 = ys[0,0], ys[1,0]\n",
    "        fig.add_trace(go.Scatter(\n",
    "            x=[x0, x1],\n",
    "            y=[y0, y1],\n",
    "            mode=\"lines\",\n",
    "            marker=dict(color=month_colors[m]),\n",
    "            line=dict(color=month_colors[m], width=2),\n",
    "            showlegend=False,\n",
    "            name=f\"Month {m}\"\n",
    "        ))\n",
    "    fig.update_xaxes(\n",
    "        title=\"presenze_vodafone\",\n",
    "        range=[-800, df[\"presenze_vodafone\"].max()+800]\n",
    "    )\n",
    "    fig.update_yaxes(\n",
    "        title=\"presenze\",\n",
    "        range=[-800, df[\"presenze\"].max()+800]\n",
    "    )\n",
    "    fig.show()\n",
    "\n",
    "plot_month(df_hidden_tourism)\n",
    "plot_month(df_hidden_tourism, months=[5,6,9])\n",
    "plot_month(df_hidden_tourism, months=[7,8])"
   ],
   "id": "6cbe0591a2d3949",
   "outputs": [
    {
     "data": {
      "application/vnd.plotly.v1+json": {
       "data": [
        {
         "marker": {
          "color": "#1f77b4"
         },
         "mode": "markers",
         "name": "Month 1",
         "x": {
          "dtype": "i2",
          "bdata": "xhH2EzsOCQ23DBcOJQ3YDHMImAF6AacBiAFRAiEDAAPWAZ8BuAHIAUwC1ALvAlEBggF3AYgB2AKaBHUEzgGLDuEPbAywDLENmQ6dDbkIiAP7AqMCZAGPA4QEvgNOAiQCHgKHAV8C7QO0AysC+gEaAtICwAV1ByUHGAPFAg=="
         },
         "y": {
          "dtype": "i2",
          "bdata": "Ngj3BvsG1AZxBuEGowYVBQkB4wDmAOUA7wB8AdQB0wDAAMcA0wDLAB0BwQHvANIAzgDaADEB+gHAAh0BtQBlB9oHRwh/CIEIaQiPBjwCJgL9AfEBCgLpArYCngF2AXQBcAGuARIDBAQlAtMBxQHqAT0CPATwBLICbAI1Ag=="
         },
         "type": "scatter"
        },
        {
         "line": {
          "color": "#1f77b4",
          "width": 2
         },
         "marker": {
          "color": "#1f77b4"
         },
         "mode": "lines",
         "name": "Month 1",
         "showlegend": false,
         "x": [
          0,
          7241
         ],
         "y": [
          122.66327269402336,
          3422.2846249249637
         ],
         "type": "scatter"
        },
        {
         "marker": {
          "color": "#4e88bf"
         },
         "mode": "markers",
         "name": "Month 2",
         "x": {
          "dtype": "i2",
          "bdata": "4wD4AMwBVgOnBU0GsQKgAqMCrAK7A5wFvwXuAtQBVAIUAzAFXAjTCHAE3QNPBAEFTQe8CXoJIwbWAlgDKgViByIHLQT5A/EDvAStBh8I1QczBXEFbQX2BVAH+wkHCnYHpAbqBYIGoQdcCWcH/gN+Aw=="
         },
         "y": {
          "dtype": "i2",
          "bdata": "tQDBAAwBXQKqA9MBrQGyAcMB7AE9A5sEOwLMAXYBoAExAqQDZwUxA6QCeAKBAvMCxwSIBYoExANIAr4CGAQUBVUDKgMnAzQD2QMLBYYFugOyA38DigPuAwkFdwZ9BSIFJwT+A4kEqAWyBToD6ALYAg=="
         },
         "type": "scatter"
        },
        {
         "line": {
          "color": "#4e88bf",
          "width": 2
         },
         "marker": {
          "color": "#4e88bf"
         },
         "mode": "lines",
         "name": "Month 2",
         "showlegend": false,
         "x": [
          0,
          7241
         ],
         "y": [
          165.38941931258364,
          3894.715495309264
         ],
         "type": "scatter"
        },
        {
         "marker": {
          "color": "#2ca02c"
         },
         "mode": "markers",
         "name": "Month 3",
         "x": {
          "dtype": "i2",
          "bdata": "zATcA0sEQwYQCIsG+gHDBNYDRQQ3Bv8E1wR3Ag4CoAGDAYgCDAM4ApEARQAuAGMA/gC4AdQBagAlACUAQwAZA68DOwU/Bn4GOwOXAs8CagMUBNoENwSOAa0B0AHLAfABJwJ8AVgAGgAPACYAfQC5AKwAMAARABQAFgA7AA=="
         },
         "y": {
          "dtype": "i2",
          "bdata": "tgKTAjwDjATTBO4B0QG0AbwBrQFFAtICXwEqARAB9wBNAa4BqAFlACcAHgAhACoAfACyAD8AJwAsACYAJADRAh4D4ANsBHsCQAIjAiQC+QHGA/0DnAGRAaIBmAGTAaYBqgE4ADkAOwBAAEAAWACHABsAGQAgABcAGwAmAA=="
         },
         "type": "scatter"
        },
        {
         "line": {
          "color": "#2ca02c",
          "width": 2
         },
         "marker": {
          "color": "#2ca02c"
         },
         "mode": "lines",
         "name": "Month 3",
         "showlegend": false,
         "x": [
          0,
          7241
         ],
         "y": [
          36.54818414131978,
          3935.0800050399944
         ],
         "type": "scatter"
        },
        {
         "marker": {
          "color": "#98df8a"
         },
         "mode": "markers",
         "name": "Month 4",
         "x": {
          "dtype": "i2",
          "bdata": "bAC5AOQAZQBOADEAJwCYAPoAWQGOAIQA6ACkAS4FDgiKCHQHHgNuATYBwAEYA5MD/QLnAJMAvQBAAbgBdABPADMADwBlAFcBUAPLBDkFKQTwAbQAkgCmAPAAHAHmALEAmAB9AK0BEQTBBLUE2wPdAKgACwLJA60D"
         },
         "y": {
          "dtype": "i2",
          "bdata": "NwByAFQAUgBHACAAIAA/AGkAYABYAFkAfABVAXgDqgSBBNUB2ACoAKMADAHiARICmwCcAHIAfgCcAM8ARAAwADAAPABcAMUAUAIyAzEDSgGAAGMAVwB9ALUAlACEAIEAfAB4ADwBKgOGAyMDoACpAL0A0QHsAp4C"
         },
         "type": "scatter"
        },
        {
         "line": {
          "color": "#98df8a",
          "width": 2
         },
         "marker": {
          "color": "#98df8a"
         },
         "mode": "lines",
         "name": "Month 4",
         "showlegend": false,
         "x": [
          0,
          7241
         ],
         "y": [
          25.378583842121998,
          3764.065649644148
         ],
         "type": "scatter"
        },
        {
         "marker": {
          "color": "#d6e685"
         },
         "mode": "markers",
         "name": "Month 5",
         "x": {
          "dtype": "i2",
          "bdata": "tQGcAG4AwwDJAFcBIAJAAjkBLgE+AXsB2ALfBC0FIwK4AYwBYALUAtUEXQimAhgC5AOWBugHrQirCM0DmwPWAvMA/wD3AFwBegFMAdQA1gAAATkB/AEgA8cCQQEpATQBIwIGAxQDeQODAj8CdwLLAhgEXQY1Bx4FvQOeAw=="
         },
         "y": {
          "dtype": "i2",
          "bdata": "fQBwAHIAmwDFABMBegGZALMAwADvAAkB2QHrAmoBNAFGAVgB7gE/BEEF+wGdAb4BwwKYBDkFMwUuAjMCMgIHAeMA4ADhAL4ALQHxAOcACgFwAZoBcQKyAmgBNAEtAY0BWgKPAs4CVgJcAmcCOgJFAvoDXgXlBLkDxgPMAw=="
         },
         "type": "scatter"
        },
        {
         "line": {
          "color": "#d6e685",
          "width": 2
         },
         "marker": {
          "color": "#d6e685"
         },
         "mode": "lines",
         "name": "Month 5",
         "showlegend": false,
         "x": [
          0,
          7241
         ],
         "y": [
          167.14233611496104,
          3720.249348416473
         ],
         "type": "scatter"
        },
        {
         "marker": {
          "color": "#ffbb78"
         },
         "mode": "markers",
         "name": "Month 6",
         "x": {
          "dtype": "i2",
          "bdata": "FgaYDKcOwxByD6AHmgUeBbIFYAfICoILvAhgCFgJdQrtDKMNbwvwCWQJ+QmhCsMMww9jDkYKTAnjCbwJYQVSCPkIbwg+BDME5ATdBRMHtwfDB0wFTQVVBecF4gYnCGoHpAWKBm4H5AY9BhEIVQeWBS0H+gcrCPwI"
         },
         "y": {
          "dtype": "i2",
          "bdata": "uAO3COUJ5glkBbIEsgTgBEYFUQYtCE4HOQdOB8MHkwhuCdEJ+wYpB4cHzwdcCEYJiArqBwgI/AfRBw8I2QXfCLkINAQ6BEUE5gT5BZ4G1AYqBU8FbAW1BRcGcwe/CH8G2wbsBgsHQgdQCOAJlQejB/UHLggoCKcH"
         },
         "type": "scatter"
        },
        {
         "line": {
          "color": "#ffbb78",
          "width": 2
         },
         "marker": {
          "color": "#ffbb78"
         },
         "mode": "lines",
         "name": "Month 6",
         "showlegend": false,
         "x": [
          0,
          7241
         ],
         "y": [
          1041.2132730348494,
          3644.9147901146707
         ],
         "type": "scatter"
        },
        {
         "marker": {
          "color": "#bcbd22"
         },
         "mode": "markers",
         "name": "Month 7",
         "x": {
          "dtype": "i2",
          "bdata": "5QvEEVASBA/ZDU0OIg/REJwRKRLlDk0Paw+MEDsTdxYQFsQRTg/7EJMRkhNLFgAVthGmEMYQDxFhE4AXFxdsC6sL8AnzCcoKRAswDdoQhQ9NDMkLxwsTDNMNGxIFEb8OUA7eDSQO0w41EboQ+g3iDNsNsw17Dh0RVw+ODA=="
         },
         "y": {
          "dtype": "i2",
          "bdata": "OAlUC/4JAQonClsKjgoTCx0MiQrHCuUKKAseC5gLdAztC2gMeQylDIkMwgyzDMcLDQz2C+ALDwwfDC0MLgt2CQMJ2QknCmwKnwqNC1UM/gowC2ELCgsiC6oLZwz3C10MVgxYDFIM/guWDNQLDgw0DDcMNAxkDOULWQqUCg=="
         },
         "type": "scatter"
        },
        {
         "line": {
          "color": "#bcbd22",
          "width": 2
         },
         "marker": {
          "color": "#bcbd22"
         },
         "mode": "lines",
         "name": "Month 7",
         "showlegend": false,
         "x": [
          0,
          7241
         ],
         "y": [
          2349.656842431454,
          3400.411501513826
         ],
         "type": "scatter"
        },
        {
         "marker": {
          "color": "#db9334"
         },
         "mode": "markers",
         "name": "Month 8",
         "x": {
          "dtype": "i2",
          "bdata": "iRN1E3MT5hS3FLcUtxT5FiAXoheSGJEZSRwwHAwaQhrEGBoYEBecGeIXchSOExAUjRNGEwUU1BG3DioO7g29DIINtA1bDg0S0xGcEC8QqRA9EZkROhWwExgT8BLTEyETQhMhFTMTjRGdEIgQ8RL1EDwS3g1uCvQJcAqTCg=="
         },
         "y": {
          "dtype": "i2",
          "bdata": "3wsdDGsMjAxzDOgM7gxcDboN0Q21DaANAw4CDusNBQ7+DckNlQ2SDXUNvg2+DbYNRw3TDFcLkgrYCnIKhwmtCvMKnQq6CpgLIwwYDWgNvw2QDaoNzw0FDiMOIg7TDb4NfQ1ADesM/w3NDbsNVQ0ADewKQgl0CZ8JGArOCQ=="
         },
         "type": "scatter"
        },
        {
         "line": {
          "color": "#db9334",
          "width": 2
         },
         "marker": {
          "color": "#db9334"
         },
         "mode": "lines",
         "name": "Month 8",
         "showlegend": false,
         "x": [
          0,
          7241
         ],
         "y": [
          2001.3495949450423,
          3835.1616614729846
         ],
         "type": "scatter"
        },
        {
         "marker": {
          "color": "#ff7f0e"
         },
         "mode": "markers",
         "name": "Month 9",
         "x": {
          "dtype": "i2",
          "bdata": "lg2HDtYQjg8iC+YKfApZCv8LaQ8SDj4INwgWCDcHZwigCRIKewcuCA4ILwefBjUH4gZ6Aw8E4gU+B5YG4QsUDS8MUwowCUEJgQlEC5AM9AoJBzsGWgZ1BiMHNQn8B2EFKwboBlEI9glYCaMGTwSfBC4EOwT2BXsH"
         },
         "y": {
          "dtype": "i2",
          "bdata": "ugk1CmkKdwjeCMkIPAh3CPoJ7QmWBtAG2AYnBs0FOQbyBjAFXgV6BfUEnQTRBIIE+AJAA8YD/QTFBf4GTwpvCkgI5wgrCUcJXgnkCqoKbQdSB+UGTgbuBckGaAe+BOUEZQVDBroGXQd8B5cEUQRPBPUD+gPvBFAG"
         },
         "type": "scatter"
        },
        {
         "line": {
          "color": "#ff7f0e",
          "width": 2
         },
         "marker": {
          "color": "#ff7f0e"
         },
         "mode": "lines",
         "name": "Month 9",
         "showlegend": false,
         "x": [
          0,
          7241
         ],
         "y": [
          477.38297440161523,
          4592.032149247438
         ],
         "type": "scatter"
        },
        {
         "marker": {
          "color": "#d62728"
         },
         "mode": "markers",
         "name": "Month 10",
         "x": {
          "dtype": "i2",
          "bdata": "5gwcDCEGeAP0Ao0CkgO3BFkEFwIQAtwBowGWAooDUQQUAg4CdQG8AXQBCwJTAjoBvQDxAOQAYAJdBgIIuAdBB3gEBgQiBDIE5gVVBXAEvAGvAUwBsgFsAswChwK6AKoAmgCPALkAmgDpAIIAZgB7AF0AzQAAASIBkgCrAA=="
         },
         "y": {
          "dtype": "i2",
          "bdata": "pAdFBLcCawKBApYCJwNKA30BqwGjAVcBTQGxAT4CNAE+AVIBKQFDAWEBqwHpALUAyQDOANkAkgEUBHYE4wM2BMIDKgM6Ay8DqgM9BEEC8wHvAeQBHwKaAt4CfACPAHgAYgBmAIkAxAB5AHsAdgBKAGkAtgBiAagAWwBPAA=="
         },
         "type": "scatter"
        },
        {
         "line": {
          "color": "#d62728",
          "width": 2
         },
         "marker": {
          "color": "#d62728"
         },
         "mode": "lines",
         "name": "Month 10",
         "showlegend": false,
         "x": [
          0,
          7241
         ],
         "y": [
          127.66244983521159,
          3669.138449262682
         ],
         "type": "scatter"
        },
        {
         "marker": {
          "color": "#8c564b"
         },
         "mode": "markers",
         "name": "Month 11",
         "x": {
          "dtype": "i2",
          "bdata": "UgZAAV0AtgGWBdEAWQBPADoAQgCOAOgA3gBPACAANABNAJwAAwHrAEMAAAAPACgAeADGAKEAMQAvACIA1gC4AA0BJQHhABAAAAAAABMAMwByAHIAAAAAAAAAAAAzAGoAZAAAAAAAAAATAFsAegCCABMAAAAkACQA"
         },
         "y": {
          "dtype": "i2",
          "bdata": "jgAyACkAKgA5ADYAKwAhABoAHgAxADcAHAAaABwAGwAUACMARQATABgAFQASABsAXgBfADwAOgARABMASABLAFYARAAOAAwAEAASAAwAJwBdABUAEgARABIAFAArAE8AIgAcABgAIAAjAFkAcAAeAB4AHgBIAE4A"
         },
         "type": "scatter"
        },
        {
         "line": {
          "color": "#8c564b",
          "width": 2
         },
         "marker": {
          "color": "#8c564b"
         },
         "mode": "lines",
         "name": "Month 11",
         "showlegend": false,
         "x": [
          0,
          7241
         ],
         "y": [
          36.21651205277399,
          404.5913334386581
         ],
         "type": "scatter"
        },
        {
         "marker": {
          "color": "#1f4b99"
         },
         "mode": "markers",
         "name": "Month 12",
         "x": {
          "dtype": "i2",
          "bdata": "NAD3AFEBUwHDAPEA6wDTA1UEXwQtA1wAVwA7AEgA4wCKAacBcAA2AG8AzQDHAWQDEwT4Bg8KKQtWDEUQHRCLALIA6gA1ADoAAACZAE8EXgSEAzwAKwATAB4AbwB1AIYAOgAWADMAYgBEAV8DIwTiBBUH8QcqCYULRw7CDQ=="
         },
         "y": {
          "dtype": "i2",
          "bdata": "BwA8AEUAMAA1AEAAjQB0AboBdQEzAC8ACAAJAAsAawALATwAOQAzADQAbAAxAfYBMgKkA+UEnwVNBk0HHghSAHwARABEAB8AZgASAUQCMgIvAA4ADgAQABMASQBQABoAEwAQACkAXQDWAIoCRQN3A4wE1gUKB1oIQwnLCQ=="
         },
         "type": "scatter"
        },
        {
         "line": {
          "color": "#1f4b99",
          "width": 2
         },
         "marker": {
          "color": "#1f4b99"
         },
         "mode": "lines",
         "name": "Month 12",
         "showlegend": false,
         "x": [
          0,
          7241
         ],
         "y": [
          -19.57755078589048,
          4164.130658642101
         ],
         "type": "scatter"
        }
       ],
       "layout": {
        "template": {
         "data": {
          "histogram2dcontour": [
           {
            "type": "histogram2dcontour",
            "colorbar": {
             "outlinewidth": 0,
             "ticks": ""
            },
            "colorscale": [
             [
              0.0,
              "#0d0887"
             ],
             [
              0.1111111111111111,
              "#46039f"
             ],
             [
              0.2222222222222222,
              "#7201a8"
             ],
             [
              0.3333333333333333,
              "#9c179e"
             ],
             [
              0.4444444444444444,
              "#bd3786"
             ],
             [
              0.5555555555555556,
              "#d8576b"
             ],
             [
              0.6666666666666666,
              "#ed7953"
             ],
             [
              0.7777777777777778,
              "#fb9f3a"
             ],
             [
              0.8888888888888888,
              "#fdca26"
             ],
             [
              1.0,
              "#f0f921"
             ]
            ]
           }
          ],
          "choropleth": [
           {
            "type": "choropleth",
            "colorbar": {
             "outlinewidth": 0,
             "ticks": ""
            }
           }
          ],
          "histogram2d": [
           {
            "type": "histogram2d",
            "colorbar": {
             "outlinewidth": 0,
             "ticks": ""
            },
            "colorscale": [
             [
              0.0,
              "#0d0887"
             ],
             [
              0.1111111111111111,
              "#46039f"
             ],
             [
              0.2222222222222222,
              "#7201a8"
             ],
             [
              0.3333333333333333,
              "#9c179e"
             ],
             [
              0.4444444444444444,
              "#bd3786"
             ],
             [
              0.5555555555555556,
              "#d8576b"
             ],
             [
              0.6666666666666666,
              "#ed7953"
             ],
             [
              0.7777777777777778,
              "#fb9f3a"
             ],
             [
              0.8888888888888888,
              "#fdca26"
             ],
             [
              1.0,
              "#f0f921"
             ]
            ]
           }
          ],
          "heatmap": [
           {
            "type": "heatmap",
            "colorbar": {
             "outlinewidth": 0,
             "ticks": ""
            },
            "colorscale": [
             [
              0.0,
              "#0d0887"
             ],
             [
              0.1111111111111111,
              "#46039f"
             ],
             [
              0.2222222222222222,
              "#7201a8"
             ],
             [
              0.3333333333333333,
              "#9c179e"
             ],
             [
              0.4444444444444444,
              "#bd3786"
             ],
             [
              0.5555555555555556,
              "#d8576b"
             ],
             [
              0.6666666666666666,
              "#ed7953"
             ],
             [
              0.7777777777777778,
              "#fb9f3a"
             ],
             [
              0.8888888888888888,
              "#fdca26"
             ],
             [
              1.0,
              "#f0f921"
             ]
            ]
           }
          ],
          "contourcarpet": [
           {
            "type": "contourcarpet",
            "colorbar": {
             "outlinewidth": 0,
             "ticks": ""
            }
           }
          ],
          "contour": [
           {
            "type": "contour",
            "colorbar": {
             "outlinewidth": 0,
             "ticks": ""
            },
            "colorscale": [
             [
              0.0,
              "#0d0887"
             ],
             [
              0.1111111111111111,
              "#46039f"
             ],
             [
              0.2222222222222222,
              "#7201a8"
             ],
             [
              0.3333333333333333,
              "#9c179e"
             ],
             [
              0.4444444444444444,
              "#bd3786"
             ],
             [
              0.5555555555555556,
              "#d8576b"
             ],
             [
              0.6666666666666666,
              "#ed7953"
             ],
             [
              0.7777777777777778,
              "#fb9f3a"
             ],
             [
              0.8888888888888888,
              "#fdca26"
             ],
             [
              1.0,
              "#f0f921"
             ]
            ]
           }
          ],
          "surface": [
           {
            "type": "surface",
            "colorbar": {
             "outlinewidth": 0,
             "ticks": ""
            },
            "colorscale": [
             [
              0.0,
              "#0d0887"
             ],
             [
              0.1111111111111111,
              "#46039f"
             ],
             [
              0.2222222222222222,
              "#7201a8"
             ],
             [
              0.3333333333333333,
              "#9c179e"
             ],
             [
              0.4444444444444444,
              "#bd3786"
             ],
             [
              0.5555555555555556,
              "#d8576b"
             ],
             [
              0.6666666666666666,
              "#ed7953"
             ],
             [
              0.7777777777777778,
              "#fb9f3a"
             ],
             [
              0.8888888888888888,
              "#fdca26"
             ],
             [
              1.0,
              "#f0f921"
             ]
            ]
           }
          ],
          "mesh3d": [
           {
            "type": "mesh3d",
            "colorbar": {
             "outlinewidth": 0,
             "ticks": ""
            }
           }
          ],
          "scatter": [
           {
            "fillpattern": {
             "fillmode": "overlay",
             "size": 10,
             "solidity": 0.2
            },
            "type": "scatter"
           }
          ],
          "parcoords": [
           {
            "type": "parcoords",
            "line": {
             "colorbar": {
              "outlinewidth": 0,
              "ticks": ""
             }
            }
           }
          ],
          "scatterpolargl": [
           {
            "type": "scatterpolargl",
            "marker": {
             "colorbar": {
              "outlinewidth": 0,
              "ticks": ""
             }
            }
           }
          ],
          "bar": [
           {
            "error_x": {
             "color": "#2a3f5f"
            },
            "error_y": {
             "color": "#2a3f5f"
            },
            "marker": {
             "line": {
              "color": "#E5ECF6",
              "width": 0.5
             },
             "pattern": {
              "fillmode": "overlay",
              "size": 10,
              "solidity": 0.2
             }
            },
            "type": "bar"
           }
          ],
          "scattergeo": [
           {
            "type": "scattergeo",
            "marker": {
             "colorbar": {
              "outlinewidth": 0,
              "ticks": ""
             }
            }
           }
          ],
          "scatterpolar": [
           {
            "type": "scatterpolar",
            "marker": {
             "colorbar": {
              "outlinewidth": 0,
              "ticks": ""
             }
            }
           }
          ],
          "histogram": [
           {
            "marker": {
             "pattern": {
              "fillmode": "overlay",
              "size": 10,
              "solidity": 0.2
             }
            },
            "type": "histogram"
           }
          ],
          "scattergl": [
           {
            "type": "scattergl",
            "marker": {
             "colorbar": {
              "outlinewidth": 0,
              "ticks": ""
             }
            }
           }
          ],
          "scatter3d": [
           {
            "type": "scatter3d",
            "line": {
             "colorbar": {
              "outlinewidth": 0,
              "ticks": ""
             }
            },
            "marker": {
             "colorbar": {
              "outlinewidth": 0,
              "ticks": ""
             }
            }
           }
          ],
          "scattermap": [
           {
            "type": "scattermap",
            "marker": {
             "colorbar": {
              "outlinewidth": 0,
              "ticks": ""
             }
            }
           }
          ],
          "scattermapbox": [
           {
            "type": "scattermapbox",
            "marker": {
             "colorbar": {
              "outlinewidth": 0,
              "ticks": ""
             }
            }
           }
          ],
          "scatterternary": [
           {
            "type": "scatterternary",
            "marker": {
             "colorbar": {
              "outlinewidth": 0,
              "ticks": ""
             }
            }
           }
          ],
          "scattercarpet": [
           {
            "type": "scattercarpet",
            "marker": {
             "colorbar": {
              "outlinewidth": 0,
              "ticks": ""
             }
            }
           }
          ],
          "carpet": [
           {
            "aaxis": {
             "endlinecolor": "#2a3f5f",
             "gridcolor": "white",
             "linecolor": "white",
             "minorgridcolor": "white",
             "startlinecolor": "#2a3f5f"
            },
            "baxis": {
             "endlinecolor": "#2a3f5f",
             "gridcolor": "white",
             "linecolor": "white",
             "minorgridcolor": "white",
             "startlinecolor": "#2a3f5f"
            },
            "type": "carpet"
           }
          ],
          "table": [
           {
            "cells": {
             "fill": {
              "color": "#EBF0F8"
             },
             "line": {
              "color": "white"
             }
            },
            "header": {
             "fill": {
              "color": "#C8D4E3"
             },
             "line": {
              "color": "white"
             }
            },
            "type": "table"
           }
          ],
          "barpolar": [
           {
            "marker": {
             "line": {
              "color": "#E5ECF6",
              "width": 0.5
             },
             "pattern": {
              "fillmode": "overlay",
              "size": 10,
              "solidity": 0.2
             }
            },
            "type": "barpolar"
           }
          ],
          "pie": [
           {
            "automargin": true,
            "type": "pie"
           }
          ]
         },
         "layout": {
          "autotypenumbers": "strict",
          "colorway": [
           "#636efa",
           "#EF553B",
           "#00cc96",
           "#ab63fa",
           "#FFA15A",
           "#19d3f3",
           "#FF6692",
           "#B6E880",
           "#FF97FF",
           "#FECB52"
          ],
          "font": {
           "color": "#2a3f5f"
          },
          "hovermode": "closest",
          "hoverlabel": {
           "align": "left"
          },
          "paper_bgcolor": "white",
          "plot_bgcolor": "#E5ECF6",
          "polar": {
           "bgcolor": "#E5ECF6",
           "angularaxis": {
            "gridcolor": "white",
            "linecolor": "white",
            "ticks": ""
           },
           "radialaxis": {
            "gridcolor": "white",
            "linecolor": "white",
            "ticks": ""
           }
          },
          "ternary": {
           "bgcolor": "#E5ECF6",
           "aaxis": {
            "gridcolor": "white",
            "linecolor": "white",
            "ticks": ""
           },
           "baxis": {
            "gridcolor": "white",
            "linecolor": "white",
            "ticks": ""
           },
           "caxis": {
            "gridcolor": "white",
            "linecolor": "white",
            "ticks": ""
           }
          },
          "coloraxis": {
           "colorbar": {
            "outlinewidth": 0,
            "ticks": ""
           }
          },
          "colorscale": {
           "sequential": [
            [
             0.0,
             "#0d0887"
            ],
            [
             0.1111111111111111,
             "#46039f"
            ],
            [
             0.2222222222222222,
             "#7201a8"
            ],
            [
             0.3333333333333333,
             "#9c179e"
            ],
            [
             0.4444444444444444,
             "#bd3786"
            ],
            [
             0.5555555555555556,
             "#d8576b"
            ],
            [
             0.6666666666666666,
             "#ed7953"
            ],
            [
             0.7777777777777778,
             "#fb9f3a"
            ],
            [
             0.8888888888888888,
             "#fdca26"
            ],
            [
             1.0,
             "#f0f921"
            ]
           ],
           "sequentialminus": [
            [
             0.0,
             "#0d0887"
            ],
            [
             0.1111111111111111,
             "#46039f"
            ],
            [
             0.2222222222222222,
             "#7201a8"
            ],
            [
             0.3333333333333333,
             "#9c179e"
            ],
            [
             0.4444444444444444,
             "#bd3786"
            ],
            [
             0.5555555555555556,
             "#d8576b"
            ],
            [
             0.6666666666666666,
             "#ed7953"
            ],
            [
             0.7777777777777778,
             "#fb9f3a"
            ],
            [
             0.8888888888888888,
             "#fdca26"
            ],
            [
             1.0,
             "#f0f921"
            ]
           ],
           "diverging": [
            [
             0,
             "#8e0152"
            ],
            [
             0.1,
             "#c51b7d"
            ],
            [
             0.2,
             "#de77ae"
            ],
            [
             0.3,
             "#f1b6da"
            ],
            [
             0.4,
             "#fde0ef"
            ],
            [
             0.5,
             "#f7f7f7"
            ],
            [
             0.6,
             "#e6f5d0"
            ],
            [
             0.7,
             "#b8e186"
            ],
            [
             0.8,
             "#7fbc41"
            ],
            [
             0.9,
             "#4d9221"
            ],
            [
             1,
             "#276419"
            ]
           ]
          },
          "xaxis": {
           "gridcolor": "white",
           "linecolor": "white",
           "ticks": "",
           "title": {
            "standoff": 15
           },
           "zerolinecolor": "white",
           "automargin": true,
           "zerolinewidth": 2
          },
          "yaxis": {
           "gridcolor": "white",
           "linecolor": "white",
           "ticks": "",
           "title": {
            "standoff": 15
           },
           "zerolinecolor": "white",
           "automargin": true,
           "zerolinewidth": 2
          },
          "scene": {
           "xaxis": {
            "backgroundcolor": "#E5ECF6",
            "gridcolor": "white",
            "linecolor": "white",
            "showbackground": true,
            "ticks": "",
            "zerolinecolor": "white",
            "gridwidth": 2
           },
           "yaxis": {
            "backgroundcolor": "#E5ECF6",
            "gridcolor": "white",
            "linecolor": "white",
            "showbackground": true,
            "ticks": "",
            "zerolinecolor": "white",
            "gridwidth": 2
           },
           "zaxis": {
            "backgroundcolor": "#E5ECF6",
            "gridcolor": "white",
            "linecolor": "white",
            "showbackground": true,
            "ticks": "",
            "zerolinecolor": "white",
            "gridwidth": 2
           }
          },
          "shapedefaults": {
           "line": {
            "color": "#2a3f5f"
           }
          },
          "annotationdefaults": {
           "arrowcolor": "#2a3f5f",
           "arrowhead": 0,
           "arrowwidth": 1
          },
          "geo": {
           "bgcolor": "white",
           "landcolor": "#E5ECF6",
           "subunitcolor": "white",
           "showland": true,
           "showlakes": true,
           "lakecolor": "white"
          },
          "title": {
           "x": 0.05
          },
          "mapbox": {
           "style": "light"
          }
         }
        },
        "xaxis": {
         "title": {
          "text": "presenze_vodafone"
         },
         "range": [
          -800,
          8041
         ]
        },
        "yaxis": {
         "title": {
          "text": "presenze"
         },
         "range": [
          -800,
          4419
         ]
        }
       },
       "config": {
        "plotlyServerURL": "https://plot.ly"
       }
      }
     },
     "metadata": {},
     "output_type": "display_data"
    },
    {
     "data": {
      "application/vnd.plotly.v1+json": {
       "data": [
        {
         "marker": {
          "color": "#d6e685"
         },
         "mode": "markers",
         "name": "Month 5",
         "x": {
          "dtype": "i2",
          "bdata": "tQGcAG4AwwDJAFcBIAJAAjkBLgE+AXsB2ALfBC0FIwK4AYwBYALUAtUEXQimAhgC5AOWBugHrQirCM0DmwPWAvMA/wD3AFwBegFMAdQA1gAAATkB/AEgA8cCQQEpATQBIwIGAxQDeQODAj8CdwLLAhgEXQY1Bx4FvQOeAw=="
         },
         "y": {
          "dtype": "i2",
          "bdata": "fQBwAHIAmwDFABMBegGZALMAwADvAAkB2QHrAmoBNAFGAVgB7gE/BEEF+wGdAb4BwwKYBDkFMwUuAjMCMgIHAeMA4ADhAL4ALQHxAOcACgFwAZoBcQKyAmgBNAEtAY0BWgKPAs4CVgJcAmcCOgJFAvoDXgXlBLkDxgPMAw=="
         },
         "type": "scatter"
        },
        {
         "line": {
          "color": "#d6e685",
          "width": 2
         },
         "marker": {
          "color": "#d6e685"
         },
         "mode": "lines",
         "name": "Month 5",
         "showlegend": false,
         "x": [
          0,
          7241
         ],
         "y": [
          167.14233611496104,
          3720.249348416473
         ],
         "type": "scatter"
        },
        {
         "marker": {
          "color": "#ffbb78"
         },
         "mode": "markers",
         "name": "Month 6",
         "x": {
          "dtype": "i2",
          "bdata": "FgaYDKcOwxByD6AHmgUeBbIFYAfICoILvAhgCFgJdQrtDKMNbwvwCWQJ+QmhCsMMww9jDkYKTAnjCbwJYQVSCPkIbwg+BDME5ATdBRMHtwfDB0wFTQVVBecF4gYnCGoHpAWKBm4H5AY9BhEIVQeWBS0H+gcrCPwI"
         },
         "y": {
          "dtype": "i2",
          "bdata": "uAO3COUJ5glkBbIEsgTgBEYFUQYtCE4HOQdOB8MHkwhuCdEJ+wYpB4cHzwdcCEYJiArqBwgI/AfRBw8I2QXfCLkINAQ6BEUE5gT5BZ4G1AYqBU8FbAW1BRcGcwe/CH8G2wbsBgsHQgdQCOAJlQejB/UHLggoCKcH"
         },
         "type": "scatter"
        },
        {
         "line": {
          "color": "#ffbb78",
          "width": 2
         },
         "marker": {
          "color": "#ffbb78"
         },
         "mode": "lines",
         "name": "Month 6",
         "showlegend": false,
         "x": [
          0,
          7241
         ],
         "y": [
          1041.2132730348494,
          3644.9147901146707
         ],
         "type": "scatter"
        },
        {
         "marker": {
          "color": "#ff7f0e"
         },
         "mode": "markers",
         "name": "Month 9",
         "x": {
          "dtype": "i2",
          "bdata": "lg2HDtYQjg8iC+YKfApZCv8LaQ8SDj4INwgWCDcHZwigCRIKewcuCA4ILwefBjUH4gZ6Aw8E4gU+B5YG4QsUDS8MUwowCUEJgQlEC5AM9AoJBzsGWgZ1BiMHNQn8B2EFKwboBlEI9glYCaMGTwSfBC4EOwT2BXsH"
         },
         "y": {
          "dtype": "i2",
          "bdata": "ugk1CmkKdwjeCMkIPAh3CPoJ7QmWBtAG2AYnBs0FOQbyBjAFXgV6BfUEnQTRBIIE+AJAA8YD/QTFBf4GTwpvCkgI5wgrCUcJXgnkCqoKbQdSB+UGTgbuBckGaAe+BOUEZQVDBroGXQd8B5cEUQRPBPUD+gPvBFAG"
         },
         "type": "scatter"
        },
        {
         "line": {
          "color": "#ff7f0e",
          "width": 2
         },
         "marker": {
          "color": "#ff7f0e"
         },
         "mode": "lines",
         "name": "Month 9",
         "showlegend": false,
         "x": [
          0,
          7241
         ],
         "y": [
          477.38297440161523,
          4592.032149247438
         ],
         "type": "scatter"
        }
       ],
       "layout": {
        "template": {
         "data": {
          "histogram2dcontour": [
           {
            "type": "histogram2dcontour",
            "colorbar": {
             "outlinewidth": 0,
             "ticks": ""
            },
            "colorscale": [
             [
              0.0,
              "#0d0887"
             ],
             [
              0.1111111111111111,
              "#46039f"
             ],
             [
              0.2222222222222222,
              "#7201a8"
             ],
             [
              0.3333333333333333,
              "#9c179e"
             ],
             [
              0.4444444444444444,
              "#bd3786"
             ],
             [
              0.5555555555555556,
              "#d8576b"
             ],
             [
              0.6666666666666666,
              "#ed7953"
             ],
             [
              0.7777777777777778,
              "#fb9f3a"
             ],
             [
              0.8888888888888888,
              "#fdca26"
             ],
             [
              1.0,
              "#f0f921"
             ]
            ]
           }
          ],
          "choropleth": [
           {
            "type": "choropleth",
            "colorbar": {
             "outlinewidth": 0,
             "ticks": ""
            }
           }
          ],
          "histogram2d": [
           {
            "type": "histogram2d",
            "colorbar": {
             "outlinewidth": 0,
             "ticks": ""
            },
            "colorscale": [
             [
              0.0,
              "#0d0887"
             ],
             [
              0.1111111111111111,
              "#46039f"
             ],
             [
              0.2222222222222222,
              "#7201a8"
             ],
             [
              0.3333333333333333,
              "#9c179e"
             ],
             [
              0.4444444444444444,
              "#bd3786"
             ],
             [
              0.5555555555555556,
              "#d8576b"
             ],
             [
              0.6666666666666666,
              "#ed7953"
             ],
             [
              0.7777777777777778,
              "#fb9f3a"
             ],
             [
              0.8888888888888888,
              "#fdca26"
             ],
             [
              1.0,
              "#f0f921"
             ]
            ]
           }
          ],
          "heatmap": [
           {
            "type": "heatmap",
            "colorbar": {
             "outlinewidth": 0,
             "ticks": ""
            },
            "colorscale": [
             [
              0.0,
              "#0d0887"
             ],
             [
              0.1111111111111111,
              "#46039f"
             ],
             [
              0.2222222222222222,
              "#7201a8"
             ],
             [
              0.3333333333333333,
              "#9c179e"
             ],
             [
              0.4444444444444444,
              "#bd3786"
             ],
             [
              0.5555555555555556,
              "#d8576b"
             ],
             [
              0.6666666666666666,
              "#ed7953"
             ],
             [
              0.7777777777777778,
              "#fb9f3a"
             ],
             [
              0.8888888888888888,
              "#fdca26"
             ],
             [
              1.0,
              "#f0f921"
             ]
            ]
           }
          ],
          "contourcarpet": [
           {
            "type": "contourcarpet",
            "colorbar": {
             "outlinewidth": 0,
             "ticks": ""
            }
           }
          ],
          "contour": [
           {
            "type": "contour",
            "colorbar": {
             "outlinewidth": 0,
             "ticks": ""
            },
            "colorscale": [
             [
              0.0,
              "#0d0887"
             ],
             [
              0.1111111111111111,
              "#46039f"
             ],
             [
              0.2222222222222222,
              "#7201a8"
             ],
             [
              0.3333333333333333,
              "#9c179e"
             ],
             [
              0.4444444444444444,
              "#bd3786"
             ],
             [
              0.5555555555555556,
              "#d8576b"
             ],
             [
              0.6666666666666666,
              "#ed7953"
             ],
             [
              0.7777777777777778,
              "#fb9f3a"
             ],
             [
              0.8888888888888888,
              "#fdca26"
             ],
             [
              1.0,
              "#f0f921"
             ]
            ]
           }
          ],
          "surface": [
           {
            "type": "surface",
            "colorbar": {
             "outlinewidth": 0,
             "ticks": ""
            },
            "colorscale": [
             [
              0.0,
              "#0d0887"
             ],
             [
              0.1111111111111111,
              "#46039f"
             ],
             [
              0.2222222222222222,
              "#7201a8"
             ],
             [
              0.3333333333333333,
              "#9c179e"
             ],
             [
              0.4444444444444444,
              "#bd3786"
             ],
             [
              0.5555555555555556,
              "#d8576b"
             ],
             [
              0.6666666666666666,
              "#ed7953"
             ],
             [
              0.7777777777777778,
              "#fb9f3a"
             ],
             [
              0.8888888888888888,
              "#fdca26"
             ],
             [
              1.0,
              "#f0f921"
             ]
            ]
           }
          ],
          "mesh3d": [
           {
            "type": "mesh3d",
            "colorbar": {
             "outlinewidth": 0,
             "ticks": ""
            }
           }
          ],
          "scatter": [
           {
            "fillpattern": {
             "fillmode": "overlay",
             "size": 10,
             "solidity": 0.2
            },
            "type": "scatter"
           }
          ],
          "parcoords": [
           {
            "type": "parcoords",
            "line": {
             "colorbar": {
              "outlinewidth": 0,
              "ticks": ""
             }
            }
           }
          ],
          "scatterpolargl": [
           {
            "type": "scatterpolargl",
            "marker": {
             "colorbar": {
              "outlinewidth": 0,
              "ticks": ""
             }
            }
           }
          ],
          "bar": [
           {
            "error_x": {
             "color": "#2a3f5f"
            },
            "error_y": {
             "color": "#2a3f5f"
            },
            "marker": {
             "line": {
              "color": "#E5ECF6",
              "width": 0.5
             },
             "pattern": {
              "fillmode": "overlay",
              "size": 10,
              "solidity": 0.2
             }
            },
            "type": "bar"
           }
          ],
          "scattergeo": [
           {
            "type": "scattergeo",
            "marker": {
             "colorbar": {
              "outlinewidth": 0,
              "ticks": ""
             }
            }
           }
          ],
          "scatterpolar": [
           {
            "type": "scatterpolar",
            "marker": {
             "colorbar": {
              "outlinewidth": 0,
              "ticks": ""
             }
            }
           }
          ],
          "histogram": [
           {
            "marker": {
             "pattern": {
              "fillmode": "overlay",
              "size": 10,
              "solidity": 0.2
             }
            },
            "type": "histogram"
           }
          ],
          "scattergl": [
           {
            "type": "scattergl",
            "marker": {
             "colorbar": {
              "outlinewidth": 0,
              "ticks": ""
             }
            }
           }
          ],
          "scatter3d": [
           {
            "type": "scatter3d",
            "line": {
             "colorbar": {
              "outlinewidth": 0,
              "ticks": ""
             }
            },
            "marker": {
             "colorbar": {
              "outlinewidth": 0,
              "ticks": ""
             }
            }
           }
          ],
          "scattermap": [
           {
            "type": "scattermap",
            "marker": {
             "colorbar": {
              "outlinewidth": 0,
              "ticks": ""
             }
            }
           }
          ],
          "scattermapbox": [
           {
            "type": "scattermapbox",
            "marker": {
             "colorbar": {
              "outlinewidth": 0,
              "ticks": ""
             }
            }
           }
          ],
          "scatterternary": [
           {
            "type": "scatterternary",
            "marker": {
             "colorbar": {
              "outlinewidth": 0,
              "ticks": ""
             }
            }
           }
          ],
          "scattercarpet": [
           {
            "type": "scattercarpet",
            "marker": {
             "colorbar": {
              "outlinewidth": 0,
              "ticks": ""
             }
            }
           }
          ],
          "carpet": [
           {
            "aaxis": {
             "endlinecolor": "#2a3f5f",
             "gridcolor": "white",
             "linecolor": "white",
             "minorgridcolor": "white",
             "startlinecolor": "#2a3f5f"
            },
            "baxis": {
             "endlinecolor": "#2a3f5f",
             "gridcolor": "white",
             "linecolor": "white",
             "minorgridcolor": "white",
             "startlinecolor": "#2a3f5f"
            },
            "type": "carpet"
           }
          ],
          "table": [
           {
            "cells": {
             "fill": {
              "color": "#EBF0F8"
             },
             "line": {
              "color": "white"
             }
            },
            "header": {
             "fill": {
              "color": "#C8D4E3"
             },
             "line": {
              "color": "white"
             }
            },
            "type": "table"
           }
          ],
          "barpolar": [
           {
            "marker": {
             "line": {
              "color": "#E5ECF6",
              "width": 0.5
             },
             "pattern": {
              "fillmode": "overlay",
              "size": 10,
              "solidity": 0.2
             }
            },
            "type": "barpolar"
           }
          ],
          "pie": [
           {
            "automargin": true,
            "type": "pie"
           }
          ]
         },
         "layout": {
          "autotypenumbers": "strict",
          "colorway": [
           "#636efa",
           "#EF553B",
           "#00cc96",
           "#ab63fa",
           "#FFA15A",
           "#19d3f3",
           "#FF6692",
           "#B6E880",
           "#FF97FF",
           "#FECB52"
          ],
          "font": {
           "color": "#2a3f5f"
          },
          "hovermode": "closest",
          "hoverlabel": {
           "align": "left"
          },
          "paper_bgcolor": "white",
          "plot_bgcolor": "#E5ECF6",
          "polar": {
           "bgcolor": "#E5ECF6",
           "angularaxis": {
            "gridcolor": "white",
            "linecolor": "white",
            "ticks": ""
           },
           "radialaxis": {
            "gridcolor": "white",
            "linecolor": "white",
            "ticks": ""
           }
          },
          "ternary": {
           "bgcolor": "#E5ECF6",
           "aaxis": {
            "gridcolor": "white",
            "linecolor": "white",
            "ticks": ""
           },
           "baxis": {
            "gridcolor": "white",
            "linecolor": "white",
            "ticks": ""
           },
           "caxis": {
            "gridcolor": "white",
            "linecolor": "white",
            "ticks": ""
           }
          },
          "coloraxis": {
           "colorbar": {
            "outlinewidth": 0,
            "ticks": ""
           }
          },
          "colorscale": {
           "sequential": [
            [
             0.0,
             "#0d0887"
            ],
            [
             0.1111111111111111,
             "#46039f"
            ],
            [
             0.2222222222222222,
             "#7201a8"
            ],
            [
             0.3333333333333333,
             "#9c179e"
            ],
            [
             0.4444444444444444,
             "#bd3786"
            ],
            [
             0.5555555555555556,
             "#d8576b"
            ],
            [
             0.6666666666666666,
             "#ed7953"
            ],
            [
             0.7777777777777778,
             "#fb9f3a"
            ],
            [
             0.8888888888888888,
             "#fdca26"
            ],
            [
             1.0,
             "#f0f921"
            ]
           ],
           "sequentialminus": [
            [
             0.0,
             "#0d0887"
            ],
            [
             0.1111111111111111,
             "#46039f"
            ],
            [
             0.2222222222222222,
             "#7201a8"
            ],
            [
             0.3333333333333333,
             "#9c179e"
            ],
            [
             0.4444444444444444,
             "#bd3786"
            ],
            [
             0.5555555555555556,
             "#d8576b"
            ],
            [
             0.6666666666666666,
             "#ed7953"
            ],
            [
             0.7777777777777778,
             "#fb9f3a"
            ],
            [
             0.8888888888888888,
             "#fdca26"
            ],
            [
             1.0,
             "#f0f921"
            ]
           ],
           "diverging": [
            [
             0,
             "#8e0152"
            ],
            [
             0.1,
             "#c51b7d"
            ],
            [
             0.2,
             "#de77ae"
            ],
            [
             0.3,
             "#f1b6da"
            ],
            [
             0.4,
             "#fde0ef"
            ],
            [
             0.5,
             "#f7f7f7"
            ],
            [
             0.6,
             "#e6f5d0"
            ],
            [
             0.7,
             "#b8e186"
            ],
            [
             0.8,
             "#7fbc41"
            ],
            [
             0.9,
             "#4d9221"
            ],
            [
             1,
             "#276419"
            ]
           ]
          },
          "xaxis": {
           "gridcolor": "white",
           "linecolor": "white",
           "ticks": "",
           "title": {
            "standoff": 15
           },
           "zerolinecolor": "white",
           "automargin": true,
           "zerolinewidth": 2
          },
          "yaxis": {
           "gridcolor": "white",
           "linecolor": "white",
           "ticks": "",
           "title": {
            "standoff": 15
           },
           "zerolinecolor": "white",
           "automargin": true,
           "zerolinewidth": 2
          },
          "scene": {
           "xaxis": {
            "backgroundcolor": "#E5ECF6",
            "gridcolor": "white",
            "linecolor": "white",
            "showbackground": true,
            "ticks": "",
            "zerolinecolor": "white",
            "gridwidth": 2
           },
           "yaxis": {
            "backgroundcolor": "#E5ECF6",
            "gridcolor": "white",
            "linecolor": "white",
            "showbackground": true,
            "ticks": "",
            "zerolinecolor": "white",
            "gridwidth": 2
           },
           "zaxis": {
            "backgroundcolor": "#E5ECF6",
            "gridcolor": "white",
            "linecolor": "white",
            "showbackground": true,
            "ticks": "",
            "zerolinecolor": "white",
            "gridwidth": 2
           }
          },
          "shapedefaults": {
           "line": {
            "color": "#2a3f5f"
           }
          },
          "annotationdefaults": {
           "arrowcolor": "#2a3f5f",
           "arrowhead": 0,
           "arrowwidth": 1
          },
          "geo": {
           "bgcolor": "white",
           "landcolor": "#E5ECF6",
           "subunitcolor": "white",
           "showland": true,
           "showlakes": true,
           "lakecolor": "white"
          },
          "title": {
           "x": 0.05
          },
          "mapbox": {
           "style": "light"
          }
         }
        },
        "xaxis": {
         "title": {
          "text": "presenze_vodafone"
         },
         "range": [
          -800,
          8041
         ]
        },
        "yaxis": {
         "title": {
          "text": "presenze"
         },
         "range": [
          -800,
          4419
         ]
        }
       },
       "config": {
        "plotlyServerURL": "https://plot.ly"
       }
      }
     },
     "metadata": {},
     "output_type": "display_data"
    },
    {
     "data": {
      "application/vnd.plotly.v1+json": {
       "data": [
        {
         "marker": {
          "color": "#bcbd22"
         },
         "mode": "markers",
         "name": "Month 7",
         "x": {
          "dtype": "i2",
          "bdata": "5QvEEVASBA/ZDU0OIg/REJwRKRLlDk0Paw+MEDsTdxYQFsQRTg/7EJMRkhNLFgAVthGmEMYQDxFhE4AXFxdsC6sL8AnzCcoKRAswDdoQhQ9NDMkLxwsTDNMNGxIFEb8OUA7eDSQO0w41EboQ+g3iDNsNsw17Dh0RVw+ODA=="
         },
         "y": {
          "dtype": "i2",
          "bdata": "OAlUC/4JAQonClsKjgoTCx0MiQrHCuUKKAseC5gLdAztC2gMeQylDIkMwgyzDMcLDQz2C+ALDwwfDC0MLgt2CQMJ2QknCmwKnwqNC1UM/gowC2ELCgsiC6oLZwz3C10MVgxYDFIM/guWDNQLDgw0DDcMNAxkDOULWQqUCg=="
         },
         "type": "scatter"
        },
        {
         "line": {
          "color": "#bcbd22",
          "width": 2
         },
         "marker": {
          "color": "#bcbd22"
         },
         "mode": "lines",
         "name": "Month 7",
         "showlegend": false,
         "x": [
          0,
          7241
         ],
         "y": [
          2349.656842431454,
          3400.411501513826
         ],
         "type": "scatter"
        },
        {
         "marker": {
          "color": "#db9334"
         },
         "mode": "markers",
         "name": "Month 8",
         "x": {
          "dtype": "i2",
          "bdata": "iRN1E3MT5hS3FLcUtxT5FiAXoheSGJEZSRwwHAwaQhrEGBoYEBecGeIXchSOExAUjRNGEwUU1BG3DioO7g29DIINtA1bDg0S0xGcEC8QqRA9EZkROhWwExgT8BLTEyETQhMhFTMTjRGdEIgQ8RL1EDwS3g1uCvQJcAqTCg=="
         },
         "y": {
          "dtype": "i2",
          "bdata": "3wsdDGsMjAxzDOgM7gxcDboN0Q21DaANAw4CDusNBQ7+DckNlQ2SDXUNvg2+DbYNRw3TDFcLkgrYCnIKhwmtCvMKnQq6CpgLIwwYDWgNvw2QDaoNzw0FDiMOIg7TDb4NfQ1ADesM/w3NDbsNVQ0ADewKQgl0CZ8JGArOCQ=="
         },
         "type": "scatter"
        },
        {
         "line": {
          "color": "#db9334",
          "width": 2
         },
         "marker": {
          "color": "#db9334"
         },
         "mode": "lines",
         "name": "Month 8",
         "showlegend": false,
         "x": [
          0,
          7241
         ],
         "y": [
          2001.3495949450423,
          3835.1616614729846
         ],
         "type": "scatter"
        }
       ],
       "layout": {
        "template": {
         "data": {
          "histogram2dcontour": [
           {
            "type": "histogram2dcontour",
            "colorbar": {
             "outlinewidth": 0,
             "ticks": ""
            },
            "colorscale": [
             [
              0.0,
              "#0d0887"
             ],
             [
              0.1111111111111111,
              "#46039f"
             ],
             [
              0.2222222222222222,
              "#7201a8"
             ],
             [
              0.3333333333333333,
              "#9c179e"
             ],
             [
              0.4444444444444444,
              "#bd3786"
             ],
             [
              0.5555555555555556,
              "#d8576b"
             ],
             [
              0.6666666666666666,
              "#ed7953"
             ],
             [
              0.7777777777777778,
              "#fb9f3a"
             ],
             [
              0.8888888888888888,
              "#fdca26"
             ],
             [
              1.0,
              "#f0f921"
             ]
            ]
           }
          ],
          "choropleth": [
           {
            "type": "choropleth",
            "colorbar": {
             "outlinewidth": 0,
             "ticks": ""
            }
           }
          ],
          "histogram2d": [
           {
            "type": "histogram2d",
            "colorbar": {
             "outlinewidth": 0,
             "ticks": ""
            },
            "colorscale": [
             [
              0.0,
              "#0d0887"
             ],
             [
              0.1111111111111111,
              "#46039f"
             ],
             [
              0.2222222222222222,
              "#7201a8"
             ],
             [
              0.3333333333333333,
              "#9c179e"
             ],
             [
              0.4444444444444444,
              "#bd3786"
             ],
             [
              0.5555555555555556,
              "#d8576b"
             ],
             [
              0.6666666666666666,
              "#ed7953"
             ],
             [
              0.7777777777777778,
              "#fb9f3a"
             ],
             [
              0.8888888888888888,
              "#fdca26"
             ],
             [
              1.0,
              "#f0f921"
             ]
            ]
           }
          ],
          "heatmap": [
           {
            "type": "heatmap",
            "colorbar": {
             "outlinewidth": 0,
             "ticks": ""
            },
            "colorscale": [
             [
              0.0,
              "#0d0887"
             ],
             [
              0.1111111111111111,
              "#46039f"
             ],
             [
              0.2222222222222222,
              "#7201a8"
             ],
             [
              0.3333333333333333,
              "#9c179e"
             ],
             [
              0.4444444444444444,
              "#bd3786"
             ],
             [
              0.5555555555555556,
              "#d8576b"
             ],
             [
              0.6666666666666666,
              "#ed7953"
             ],
             [
              0.7777777777777778,
              "#fb9f3a"
             ],
             [
              0.8888888888888888,
              "#fdca26"
             ],
             [
              1.0,
              "#f0f921"
             ]
            ]
           }
          ],
          "contourcarpet": [
           {
            "type": "contourcarpet",
            "colorbar": {
             "outlinewidth": 0,
             "ticks": ""
            }
           }
          ],
          "contour": [
           {
            "type": "contour",
            "colorbar": {
             "outlinewidth": 0,
             "ticks": ""
            },
            "colorscale": [
             [
              0.0,
              "#0d0887"
             ],
             [
              0.1111111111111111,
              "#46039f"
             ],
             [
              0.2222222222222222,
              "#7201a8"
             ],
             [
              0.3333333333333333,
              "#9c179e"
             ],
             [
              0.4444444444444444,
              "#bd3786"
             ],
             [
              0.5555555555555556,
              "#d8576b"
             ],
             [
              0.6666666666666666,
              "#ed7953"
             ],
             [
              0.7777777777777778,
              "#fb9f3a"
             ],
             [
              0.8888888888888888,
              "#fdca26"
             ],
             [
              1.0,
              "#f0f921"
             ]
            ]
           }
          ],
          "surface": [
           {
            "type": "surface",
            "colorbar": {
             "outlinewidth": 0,
             "ticks": ""
            },
            "colorscale": [
             [
              0.0,
              "#0d0887"
             ],
             [
              0.1111111111111111,
              "#46039f"
             ],
             [
              0.2222222222222222,
              "#7201a8"
             ],
             [
              0.3333333333333333,
              "#9c179e"
             ],
             [
              0.4444444444444444,
              "#bd3786"
             ],
             [
              0.5555555555555556,
              "#d8576b"
             ],
             [
              0.6666666666666666,
              "#ed7953"
             ],
             [
              0.7777777777777778,
              "#fb9f3a"
             ],
             [
              0.8888888888888888,
              "#fdca26"
             ],
             [
              1.0,
              "#f0f921"
             ]
            ]
           }
          ],
          "mesh3d": [
           {
            "type": "mesh3d",
            "colorbar": {
             "outlinewidth": 0,
             "ticks": ""
            }
           }
          ],
          "scatter": [
           {
            "fillpattern": {
             "fillmode": "overlay",
             "size": 10,
             "solidity": 0.2
            },
            "type": "scatter"
           }
          ],
          "parcoords": [
           {
            "type": "parcoords",
            "line": {
             "colorbar": {
              "outlinewidth": 0,
              "ticks": ""
             }
            }
           }
          ],
          "scatterpolargl": [
           {
            "type": "scatterpolargl",
            "marker": {
             "colorbar": {
              "outlinewidth": 0,
              "ticks": ""
             }
            }
           }
          ],
          "bar": [
           {
            "error_x": {
             "color": "#2a3f5f"
            },
            "error_y": {
             "color": "#2a3f5f"
            },
            "marker": {
             "line": {
              "color": "#E5ECF6",
              "width": 0.5
             },
             "pattern": {
              "fillmode": "overlay",
              "size": 10,
              "solidity": 0.2
             }
            },
            "type": "bar"
           }
          ],
          "scattergeo": [
           {
            "type": "scattergeo",
            "marker": {
             "colorbar": {
              "outlinewidth": 0,
              "ticks": ""
             }
            }
           }
          ],
          "scatterpolar": [
           {
            "type": "scatterpolar",
            "marker": {
             "colorbar": {
              "outlinewidth": 0,
              "ticks": ""
             }
            }
           }
          ],
          "histogram": [
           {
            "marker": {
             "pattern": {
              "fillmode": "overlay",
              "size": 10,
              "solidity": 0.2
             }
            },
            "type": "histogram"
           }
          ],
          "scattergl": [
           {
            "type": "scattergl",
            "marker": {
             "colorbar": {
              "outlinewidth": 0,
              "ticks": ""
             }
            }
           }
          ],
          "scatter3d": [
           {
            "type": "scatter3d",
            "line": {
             "colorbar": {
              "outlinewidth": 0,
              "ticks": ""
             }
            },
            "marker": {
             "colorbar": {
              "outlinewidth": 0,
              "ticks": ""
             }
            }
           }
          ],
          "scattermap": [
           {
            "type": "scattermap",
            "marker": {
             "colorbar": {
              "outlinewidth": 0,
              "ticks": ""
             }
            }
           }
          ],
          "scattermapbox": [
           {
            "type": "scattermapbox",
            "marker": {
             "colorbar": {
              "outlinewidth": 0,
              "ticks": ""
             }
            }
           }
          ],
          "scatterternary": [
           {
            "type": "scatterternary",
            "marker": {
             "colorbar": {
              "outlinewidth": 0,
              "ticks": ""
             }
            }
           }
          ],
          "scattercarpet": [
           {
            "type": "scattercarpet",
            "marker": {
             "colorbar": {
              "outlinewidth": 0,
              "ticks": ""
             }
            }
           }
          ],
          "carpet": [
           {
            "aaxis": {
             "endlinecolor": "#2a3f5f",
             "gridcolor": "white",
             "linecolor": "white",
             "minorgridcolor": "white",
             "startlinecolor": "#2a3f5f"
            },
            "baxis": {
             "endlinecolor": "#2a3f5f",
             "gridcolor": "white",
             "linecolor": "white",
             "minorgridcolor": "white",
             "startlinecolor": "#2a3f5f"
            },
            "type": "carpet"
           }
          ],
          "table": [
           {
            "cells": {
             "fill": {
              "color": "#EBF0F8"
             },
             "line": {
              "color": "white"
             }
            },
            "header": {
             "fill": {
              "color": "#C8D4E3"
             },
             "line": {
              "color": "white"
             }
            },
            "type": "table"
           }
          ],
          "barpolar": [
           {
            "marker": {
             "line": {
              "color": "#E5ECF6",
              "width": 0.5
             },
             "pattern": {
              "fillmode": "overlay",
              "size": 10,
              "solidity": 0.2
             }
            },
            "type": "barpolar"
           }
          ],
          "pie": [
           {
            "automargin": true,
            "type": "pie"
           }
          ]
         },
         "layout": {
          "autotypenumbers": "strict",
          "colorway": [
           "#636efa",
           "#EF553B",
           "#00cc96",
           "#ab63fa",
           "#FFA15A",
           "#19d3f3",
           "#FF6692",
           "#B6E880",
           "#FF97FF",
           "#FECB52"
          ],
          "font": {
           "color": "#2a3f5f"
          },
          "hovermode": "closest",
          "hoverlabel": {
           "align": "left"
          },
          "paper_bgcolor": "white",
          "plot_bgcolor": "#E5ECF6",
          "polar": {
           "bgcolor": "#E5ECF6",
           "angularaxis": {
            "gridcolor": "white",
            "linecolor": "white",
            "ticks": ""
           },
           "radialaxis": {
            "gridcolor": "white",
            "linecolor": "white",
            "ticks": ""
           }
          },
          "ternary": {
           "bgcolor": "#E5ECF6",
           "aaxis": {
            "gridcolor": "white",
            "linecolor": "white",
            "ticks": ""
           },
           "baxis": {
            "gridcolor": "white",
            "linecolor": "white",
            "ticks": ""
           },
           "caxis": {
            "gridcolor": "white",
            "linecolor": "white",
            "ticks": ""
           }
          },
          "coloraxis": {
           "colorbar": {
            "outlinewidth": 0,
            "ticks": ""
           }
          },
          "colorscale": {
           "sequential": [
            [
             0.0,
             "#0d0887"
            ],
            [
             0.1111111111111111,
             "#46039f"
            ],
            [
             0.2222222222222222,
             "#7201a8"
            ],
            [
             0.3333333333333333,
             "#9c179e"
            ],
            [
             0.4444444444444444,
             "#bd3786"
            ],
            [
             0.5555555555555556,
             "#d8576b"
            ],
            [
             0.6666666666666666,
             "#ed7953"
            ],
            [
             0.7777777777777778,
             "#fb9f3a"
            ],
            [
             0.8888888888888888,
             "#fdca26"
            ],
            [
             1.0,
             "#f0f921"
            ]
           ],
           "sequentialminus": [
            [
             0.0,
             "#0d0887"
            ],
            [
             0.1111111111111111,
             "#46039f"
            ],
            [
             0.2222222222222222,
             "#7201a8"
            ],
            [
             0.3333333333333333,
             "#9c179e"
            ],
            [
             0.4444444444444444,
             "#bd3786"
            ],
            [
             0.5555555555555556,
             "#d8576b"
            ],
            [
             0.6666666666666666,
             "#ed7953"
            ],
            [
             0.7777777777777778,
             "#fb9f3a"
            ],
            [
             0.8888888888888888,
             "#fdca26"
            ],
            [
             1.0,
             "#f0f921"
            ]
           ],
           "diverging": [
            [
             0,
             "#8e0152"
            ],
            [
             0.1,
             "#c51b7d"
            ],
            [
             0.2,
             "#de77ae"
            ],
            [
             0.3,
             "#f1b6da"
            ],
            [
             0.4,
             "#fde0ef"
            ],
            [
             0.5,
             "#f7f7f7"
            ],
            [
             0.6,
             "#e6f5d0"
            ],
            [
             0.7,
             "#b8e186"
            ],
            [
             0.8,
             "#7fbc41"
            ],
            [
             0.9,
             "#4d9221"
            ],
            [
             1,
             "#276419"
            ]
           ]
          },
          "xaxis": {
           "gridcolor": "white",
           "linecolor": "white",
           "ticks": "",
           "title": {
            "standoff": 15
           },
           "zerolinecolor": "white",
           "automargin": true,
           "zerolinewidth": 2
          },
          "yaxis": {
           "gridcolor": "white",
           "linecolor": "white",
           "ticks": "",
           "title": {
            "standoff": 15
           },
           "zerolinecolor": "white",
           "automargin": true,
           "zerolinewidth": 2
          },
          "scene": {
           "xaxis": {
            "backgroundcolor": "#E5ECF6",
            "gridcolor": "white",
            "linecolor": "white",
            "showbackground": true,
            "ticks": "",
            "zerolinecolor": "white",
            "gridwidth": 2
           },
           "yaxis": {
            "backgroundcolor": "#E5ECF6",
            "gridcolor": "white",
            "linecolor": "white",
            "showbackground": true,
            "ticks": "",
            "zerolinecolor": "white",
            "gridwidth": 2
           },
           "zaxis": {
            "backgroundcolor": "#E5ECF6",
            "gridcolor": "white",
            "linecolor": "white",
            "showbackground": true,
            "ticks": "",
            "zerolinecolor": "white",
            "gridwidth": 2
           }
          },
          "shapedefaults": {
           "line": {
            "color": "#2a3f5f"
           }
          },
          "annotationdefaults": {
           "arrowcolor": "#2a3f5f",
           "arrowhead": 0,
           "arrowwidth": 1
          },
          "geo": {
           "bgcolor": "white",
           "landcolor": "#E5ECF6",
           "subunitcolor": "white",
           "showland": true,
           "showlakes": true,
           "lakecolor": "white"
          },
          "title": {
           "x": 0.05
          },
          "mapbox": {
           "style": "light"
          }
         }
        },
        "xaxis": {
         "title": {
          "text": "presenze_vodafone"
         },
         "range": [
          -800,
          8041
         ]
        },
        "yaxis": {
         "title": {
          "text": "presenze"
         },
         "range": [
          -800,
          4419
         ]
        }
       },
       "config": {
        "plotlyServerURL": "https://plot.ly"
       }
      }
     },
     "metadata": {},
     "output_type": "display_data"
    }
   ],
   "execution_count": 22
  },
  {
   "metadata": {},
   "cell_type": "markdown",
   "source": [
    "### Analysis of the plots\n",
    "The analysis of the plots shows that we need to concentrate on:\n",
    "- days: 1-5 vs 6-7\n",
    "- months: 5,6,9 vs 7,8"
   ],
   "id": "65bd4f4282ae3fbf"
  },
  {
   "metadata": {},
   "cell_type": "markdown",
   "source": [
    "# Model\n",
    "\n",
    "We concentrate only on months (since this can be replicated to other zones)"
   ],
   "id": "d0c9fd3f43254d60"
  },
  {
   "metadata": {
    "ExecuteTime": {
     "end_time": "2025-10-12T15:38:54.509362Z",
     "start_time": "2025-10-12T15:38:54.507788Z"
    }
   },
   "cell_type": "code",
   "source": [
    "ref_months = [5,6,9]\n",
    "target_months = [7,8]"
   ],
   "id": "b9af9c8768202a0d",
   "outputs": [],
   "execution_count": 31
  },
  {
   "metadata": {
    "ExecuteTime": {
     "end_time": "2025-10-12T15:38:55.168184Z",
     "start_time": "2025-10-12T15:38:55.154415Z"
    }
   },
   "cell_type": "code",
   "source": [
    "def build_ht_model(df_hidden_tourism, ref_months):\n",
    "    df = df_hidden_tourism[df_hidden_tourism[\"mese\"].isin(ref_months)]\n",
    "    X = df[\"presenze_vodafone\"].values.reshape(-1,1)\n",
    "    y = df[\"presenze\"].values.reshape(-1,1)\n",
    "    ht_model = LinearRegression().fit(X, y)\n",
    "    scores = cross_validate(ht_model, X, y, cv=5,\n",
    "                            scoring=[\"r2\", \"neg_mean_absolute_error\",\n",
    "                                     \"neg_root_mean_squared_error\"])\n",
    "    return ht_model, pd.DataFrame(scores).describe().drop(columns=[\"fit_time\", \"score_time\"])\n",
    "\n",
    "ht_model, validation = build_ht_model(df_hidden_tourism, ref_months)\n",
    "print(f\">> Intercept={ht_model.intercept_[0]:.3f}, slope={ht_model.coef_[0,0]:.3f}\")\n",
    "validation"
   ],
   "id": "6fd64a219ebc056b",
   "outputs": [
    {
     "name": "stdout",
     "output_type": "stream",
     "text": [
      ">> Intercept=228.587, scale=0.660\n"
     ]
    },
    {
     "data": {
      "text/plain": [
       "        test_r2  test_neg_mean_absolute_error  \\\n",
       "count  5.000000                      5.000000   \n",
       "mean   0.419230                   -302.793857   \n",
       "std    0.196156                     93.000437   \n",
       "min    0.266547                   -418.438042   \n",
       "25%    0.302529                   -350.053077   \n",
       "50%    0.373118                   -330.520382   \n",
       "75%    0.396586                   -212.512172   \n",
       "max    0.757369                   -202.445610   \n",
       "\n",
       "       test_neg_root_mean_squared_error  \n",
       "count                          5.000000  \n",
       "mean                        -381.733194  \n",
       "std                           96.739749  \n",
       "min                         -510.713318  \n",
       "25%                         -413.344307  \n",
       "50%                         -408.816656  \n",
       "75%                         -314.865926  \n",
       "max                         -260.925762  "
      ],
      "text/html": [
       "<div>\n",
       "<style scoped>\n",
       "    .dataframe tbody tr th:only-of-type {\n",
       "        vertical-align: middle;\n",
       "    }\n",
       "\n",
       "    .dataframe tbody tr th {\n",
       "        vertical-align: top;\n",
       "    }\n",
       "\n",
       "    .dataframe thead th {\n",
       "        text-align: right;\n",
       "    }\n",
       "</style>\n",
       "<table border=\"1\" class=\"dataframe\">\n",
       "  <thead>\n",
       "    <tr style=\"text-align: right;\">\n",
       "      <th></th>\n",
       "      <th>test_r2</th>\n",
       "      <th>test_neg_mean_absolute_error</th>\n",
       "      <th>test_neg_root_mean_squared_error</th>\n",
       "    </tr>\n",
       "  </thead>\n",
       "  <tbody>\n",
       "    <tr>\n",
       "      <th>count</th>\n",
       "      <td>5.000000</td>\n",
       "      <td>5.000000</td>\n",
       "      <td>5.000000</td>\n",
       "    </tr>\n",
       "    <tr>\n",
       "      <th>mean</th>\n",
       "      <td>0.419230</td>\n",
       "      <td>-302.793857</td>\n",
       "      <td>-381.733194</td>\n",
       "    </tr>\n",
       "    <tr>\n",
       "      <th>std</th>\n",
       "      <td>0.196156</td>\n",
       "      <td>93.000437</td>\n",
       "      <td>96.739749</td>\n",
       "    </tr>\n",
       "    <tr>\n",
       "      <th>min</th>\n",
       "      <td>0.266547</td>\n",
       "      <td>-418.438042</td>\n",
       "      <td>-510.713318</td>\n",
       "    </tr>\n",
       "    <tr>\n",
       "      <th>25%</th>\n",
       "      <td>0.302529</td>\n",
       "      <td>-350.053077</td>\n",
       "      <td>-413.344307</td>\n",
       "    </tr>\n",
       "    <tr>\n",
       "      <th>50%</th>\n",
       "      <td>0.373118</td>\n",
       "      <td>-330.520382</td>\n",
       "      <td>-408.816656</td>\n",
       "    </tr>\n",
       "    <tr>\n",
       "      <th>75%</th>\n",
       "      <td>0.396586</td>\n",
       "      <td>-212.512172</td>\n",
       "      <td>-314.865926</td>\n",
       "    </tr>\n",
       "    <tr>\n",
       "      <th>max</th>\n",
       "      <td>0.757369</td>\n",
       "      <td>-202.445610</td>\n",
       "      <td>-260.925762</td>\n",
       "    </tr>\n",
       "  </tbody>\n",
       "</table>\n",
       "</div>"
      ]
     },
     "execution_count": 32,
     "metadata": {},
     "output_type": "execute_result"
    }
   ],
   "execution_count": 32
  },
  {
   "metadata": {},
   "cell_type": "markdown",
   "source": [
    "### Validation outcomes\n",
    "Acceptable but not very robust"
   ],
   "id": "660e42534a95750"
  },
  {
   "metadata": {},
   "cell_type": "markdown",
   "source": "# Application to target months",
   "id": "f1cf6e828687b97f"
  },
  {
   "metadata": {
    "ExecuteTime": {
     "end_time": "2025-10-12T15:45:09.427177Z",
     "start_time": "2025-10-12T15:45:09.423719Z"
    }
   },
   "cell_type": "code",
   "source": [
    "df_hidden_tourism[\"presenze_normalizzate\"] = \\\n",
    "    ht_model.intercept_[0] + df_hidden_tourism[\"presenze_vodafone\"] * ht_model.coef_[0,0]\n",
    "\n",
    "df_hidden_tourism[\"turismo_nascosto\"] = \\\n",
    "    df_hidden_tourism[\"presenze_normalizzate\"] - df_hidden_tourism[\"presenze\"]\n",
    "\n",
    "df_hidden_tourism_target_months = df_hidden_tourism[df_hidden_tourism[\"mese\"].isin(target_months)]\n",
    "print(f\"Presenze ufficiali: {df_hidden_tourism_target_months['presenze'].sum()}\")\n",
    "print(f\"Turismo nascosto: {df_hidden_tourism_target_months['turismo_nascosto'].sum():.0f}\")"
   ],
   "id": "d98aa26e84162dde",
   "outputs": [
    {
     "name": "stdout",
     "output_type": "stream",
     "text": [
      "Presenze ufficiali: 382749\n",
      "Turismo nascosto: 10290\n"
     ]
    }
   ],
   "execution_count": 38
  },
  {
   "metadata": {},
   "cell_type": "code",
   "outputs": [],
   "execution_count": null,
   "source": "",
   "id": "e5ec382b5173c3c7"
  }
 ],
 "metadata": {
  "kernelspec": {
   "display_name": "Python 3",
   "language": "python",
   "name": "python3"
  },
  "language_info": {
   "codemirror_mode": {
    "name": "ipython",
    "version": 2
   },
   "file_extension": ".py",
   "mimetype": "text/x-python",
   "name": "python",
   "nbconvert_exporter": "python",
   "pygments_lexer": "ipython2",
   "version": "2.7.6"
  }
 },
 "nbformat": 4,
 "nbformat_minor": 5
}
